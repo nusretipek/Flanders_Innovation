{
 "cells": [
  {
   "cell_type": "code",
   "execution_count": 1,
   "metadata": {},
   "outputs": [],
   "source": [
    "#Import Packages\n",
    "\n",
    "from arango import ArangoClient\n",
    "from IPython.display import clear_output\n",
    "import getpass\n",
    "import pandas as pd\n",
    "import re\n",
    "import nltk\n",
    "from langdetect import detect\n",
    "from nltk.corpus import stopwords\n",
    "from nltk.stem import SnowballStemmer\n",
    "\n",
    "#Web Scraping Packages\n",
    "import requests\n",
    "from requests.utils import requote_uri\n",
    "from fake_useragent import UserAgent\n",
    "from lxml import html\n",
    "from selenium import webdriver\n",
    "from bs4 import BeautifulSoup\n",
    "from tqdm import tqdm\n",
    "import time"
   ]
  },
  {
   "cell_type": "code",
   "execution_count": 2,
   "metadata": {},
   "outputs": [
    {
     "name": "stdout",
     "output_type": "stream",
     "text": [
      "Successfully connected to the ArangoDB\n"
     ]
    }
   ],
   "source": [
    "# Database Connection\n",
    "\n",
    "username = input('Please enter your username to connect DB: ')\n",
    "password = getpass.getpass('Please enter your password to connect DB: ')\n",
    "try:\n",
    "    client = ArangoClient(hosts='http://localhost:8529')\n",
    "    FBW = client.db('Flemish_Business_Websites', username=username, password=password)\n",
    "    clear_output(wait=True)\n",
    "    print('Successfully connected to the ArangoDB')\n",
    "    del password\n",
    "except ConnectionError:\n",
    "    clear_output(wait=True)\n",
    "    print('Warning: Please check your credentials and try to connect again!')\n",
    "    del password\n",
    "\n",
    "BusinessCollection = FBW.collection('Businesses')"
   ]
  },
  {
   "cell_type": "code",
   "execution_count": 8,
   "metadata": {},
   "outputs": [],
   "source": [
    "#Required Functions\n",
    "\n",
    "#Get Visible Text\n",
    "def visible_texts(soup):\n",
    "    re_spaces = re.compile(r'\\s{3,}')\n",
    "    text = ' '.join([s for s in soup.strings if s.parent.name not in ('style', 'script', 'head', 'title')])\n",
    "    return re_spaces.sub(' ', text)\n",
    "\n",
    "#Clean Text + Get if any other frames\n",
    "def clean_pop_cookie_frame(raw_text):\n",
    "    soup = BeautifulSoup(raw_text, 'html.parser')\n",
    "    for tag in soup.find_all('div', id=re.compile(r'(cook)|(popup)')):\n",
    "        tag.decompose()\n",
    "    for tag in soup.find_all('div', class_=re.compile(r'(cook)|(popup)')):\n",
    "        tag.decompose()\n",
    "    body_text = visible_texts(BeautifulSoup(visible_texts(soup), 'html.parser'))\n",
    "    if len(soup.find_all('frame')) > 0:\n",
    "        frame_text = ''\n",
    "        for f in soup.find_all('frame'):\n",
    "            try:\n",
    "                frame_request = requests.get(f['src'], timeout = 10)\n",
    "                frame_soup =  BeautifulSoup(frame_request.content, 'html.parser')\n",
    "                frame_text = frame_text + ' ' + visible_texts(BeautifulSoup(visible_texts(frame_soup), 'html.parser'))\n",
    "            except:\n",
    "                frame_text = ''\n",
    "        body_text = body_text + frame_text\n",
    "    return body_text.strip()\n",
    "\n",
    "def lower_punct_number_clean(text, lower_bound_letter_length):\n",
    "    temp_text = re.sub('[^A-Za-z ]+', '', text)\n",
    "    temp_text = ' '.join([i for i in temp_text.split() if len(i) >= lower_bound_letter_length])\n",
    "    return temp_text.lower().strip()\n",
    "\n",
    "def language_detector(text):\n",
    "    try: \n",
    "        return detect(text)\n",
    "    except:\n",
    "        pass\n",
    "\n",
    "english_stopwords = stopwords.words('english')\n",
    "dutch_stopwords = stopwords.words('dutch')   \n",
    "def remove_stopwords(text, lang):\n",
    "    if(lang == 'nl'):\n",
    "        temp_text = ' '.join([word for word in text.split() if word not in dutch_stopwords])\n",
    "        return ' '.join([word for word in temp_text.split() if word not in english_stopwords])\n",
    "    elif(lang == 'en'):\n",
    "        return ' '.join([word for word in text.split() if word not in english_stopwords])\n",
    "    else:\n",
    "        return None\n",
    "\n",
    "english_stemmer = SnowballStemmer(language='english')\n",
    "dutch_stemmer = SnowballStemmer(language='dutch')\n",
    "def stem_text(text, lang):\n",
    "    if(text == None):\n",
    "        return None\n",
    "    elif(lang == 'nl'):\n",
    "        return ' '.join([dutch_stemmer.stem(word) for word in text.split()])\n",
    "    elif(lang == 'en'):\n",
    "        return ' '.join([english_stemmer.stem(word) for word in text.split()])\n",
    "    else:\n",
    "        return None\n",
    "    \n",
    "def count_words(text):\n",
    "    if(text == None):\n",
    "        return None\n",
    "    else:\n",
    "        return len(text.split())"
   ]
  },
  {
   "cell_type": "code",
   "execution_count": 9,
   "metadata": {},
   "outputs": [
    {
     "data": {
      "text/plain": [
       "\"Skip to content Search Menu Home About Products People Sustainability Investors Share and bond Reports Presentations Corporate governance Stock exchange filings Financial calendar Resources IR contact Contact News Search 01 02 03 04 05 Mowi ranked most sustainable protein producer Mowi has been ranked as the world’s most sustainable protein producer for the second year in a row by the FAIRR Initiative. Read more 01 02 03 04 05 Operational EBIT of EUR 80 million in the third quarter for Mowi The results of the third quarter are published. Read more 01 02 03 04 05 Mowi’s soy suppliers commit to 100% deforestation free supply chain Read more here 01 02 03 04 05 Mowi collaborates with X, Alphabet’s innovation engine, to make salmon farming more sustainable Mowi works with Tidal, X’s ocean health and sustainability team, to test and research new technologies. Read more here 01 02 03 04 05 We are the world’s largest supplier of farm-raised salmon Mowi harnesses nature to produce nutritious, tasty and supreme quality food from the ocean. As a result of our ongoing innovation and sustainable development we are the world’s largest supplier of farm-raised salmon - satisfying one fifth of global demand. About Us Our Products Consistently delivering delicious, nutritious and healthy seafood Thanks to our world-leading, innovative and sustainable approach, we offer a wide selection of healthy, delicious and responsibly produced seafood. About our brands and products Join the Blue Revolution At Mowi, people are the core of our business. With over 14 500 employees, we are the world's largest salmon farming company and are always on the lookout for driven, ambitious and forward-thinking people to come and join our team. Work with us Caring makes us profitable Mowi ASA is the world's leading seafood company, and the world’s largest producer of Atlantic salmon. The company employs 14 537 people, and is represented in 25 countries. In 2018 the company had a turnover of EUR 3.8 billion. Mowi is listed on the Oslo Stock Exchange (OSE) and its share also trades on the US OTC market. Stock Price Oslo Stock Exchange (OSE) XXX.XX NOK  | +X.XX 02:25 pm (CET) 12/09/18 US OTC Market XX.XX USD  | +X.XX 03:25 pm (CET) 12/09/18 Investor information The Potential The ocean is key to ensuring the planet has enough food – yet only 2% of the world’s current food supply comes from the ocean. Footprint With a uniquely low carbon footprint, aquaculture has the potential to play an ever more relevant role in providing food to a growing world population. Healthy Diet Salmon can play a key role in a healthy diet: not only is it packed with high-quality protein, it is also a rich source of omega-3 and vitamins and minerals. Animal Welfare Our approach to fish welfare and health is second to none. We take pride and great care in rearing our fish to the highest standards possible. About Sustainability Close Privacy policy Copyright 2018 © Mowi About Our Products People Sustainability Investors Contact Visit our national website: Mowi Ireland Mowi Canada West Mowi Norway Mowi Scotland Mowi China Mowi Faroe Islands Mowi Japan Mowi Taiwan Mowi Singapore Mowi Netherlands Mowi Belgium Mowi Turkey Mowi Poland Mowi USA Mowi Italy Follow us:\""
      ]
     },
     "execution_count": 9,
     "metadata": {},
     "output_type": "execute_result"
    }
   ],
   "source": [
    "#Trial for one website\n",
    "clean_pop_cookie_frame(BusinessCollection[\"426019644\"][\"HTML_R1_NOV20\"])"
   ]
  },
  {
   "cell_type": "code",
   "execution_count": 19,
   "metadata": {},
   "outputs": [
    {
     "name": "stderr",
     "output_type": "stream",
     "text": [
      "3179it [03:50, 13.80it/s] \n"
     ]
    }
   ],
   "source": [
    "cursor = FBW.aql.execute('FOR doc IN Businesses RETURN doc', ttl=5000)\n",
    "for document in tqdm(cursor, total=cursor.count()):\n",
    "    if ((\"HTML_R1_NOV20\" in document) or (\"HTML_R2_NOV20\" in document)):\n",
    "        if(document[\"HTML_R1_NOV20\"] is not None):\n",
    "            document[\"Clean_Text\"] = clean_pop_cookie_frame(document[\"HTML_R1_NOV20\"])\n",
    "        elif(document[\"HTML_R2_NOV20\"] is not None):\n",
    "            document[\"Clean_Text\"] = clean_pop_cookie_frame(document[\"HTML_R2_NOV20\"])\n",
    "        BusinessCollection.update(document)      "
   ]
  },
  {
   "cell_type": "code",
   "execution_count": 8,
   "metadata": {},
   "outputs": [
    {
     "data": {
      "text/plain": [
       "'skip content search menu home about products people sustainability investors share and bond reports presentations corporate governance stock exchange filings financial calendar resources contact contact news search mowi ranked most sustainable protein producer mowi has been ranked the worlds most sustainable protein producer for the second year row the fairr initiative read more operational ebit eur million the third quarter for mowi the results the third quarter are published read more mowis soy suppliers commit deforestation free supply chain read more here mowi collaborates with alphabets innovation engine make salmon farming more sustainable mowi works with tidal ocean health and sustainability team test and research new technologies read more here are the worlds largest supplier farmraised salmon mowi harnesses nature produce nutritious tasty and supreme quality food from the ocean result our ongoing innovation and sustainable development are the worlds largest supplier farmraised salmon satisfying one fifth global demand about our products consistently delivering delicious nutritious and healthy seafood thanks our worldleading innovative and sustainable approach offer wide selection healthy delicious and responsibly produced seafood about our brands and products join the blue revolution mowi people are the core our business with over employees are the worlds largest salmon farming company and are always the lookout for driven ambitious and forwardthinking people come and join our team work with caring makes profitable mowi asa the worlds leading seafood company and the worlds largest producer atlantic salmon the company employs people and represented countries the company had turnover eur billion mowi listed the oslo stock exchange ose and its share also trades the otc market stock price oslo stock exchange ose xxxxx nok xxx cet otc market xxxx usd xxx cet investor information the potential the ocean key ensuring the planet has enough food yet only the worlds current food supply comes from the ocean footprint with uniquely low carbon footprint aquaculture has the potential play ever more relevant role providing food growing world population healthy diet salmon can play key role healthy diet not only packed with highquality protein also rich source omega and vitamins and minerals animal welfare our approach fish welfare and health second none take pride and great care rearing our fish the highest standards possible about sustainability close privacy policy copyright mowi about our products people sustainability investors contact visit our national website mowi ireland mowi canada west mowi norway mowi scotland mowi china mowi faroe islands mowi japan mowi taiwan mowi singapore mowi netherlands mowi belgium mowi turkey mowi poland mowi usa mowi italy follow'"
      ]
     },
     "execution_count": 8,
     "metadata": {},
     "output_type": "execute_result"
    }
   ],
   "source": [
    "#Trial punctuation, lower, < 3 words cleaning for one webiste  \n",
    "lower_punct_number_clean(BusinessCollection[\"426019644\"][\"Clean_Text\"], 3)"
   ]
  },
  {
   "cell_type": "code",
   "execution_count": 9,
   "metadata": {},
   "outputs": [
    {
     "data": {
      "text/plain": [
       "'en'"
      ]
     },
     "execution_count": 9,
     "metadata": {},
     "output_type": "execute_result"
    }
   ],
   "source": [
    "#Trial language detector - needed for stopword treatment\n",
    "language_detector(lower_punct_number_clean(BusinessCollection[\"426019644\"][\"Clean_Text\"], 3))"
   ]
  },
  {
   "cell_type": "code",
   "execution_count": 66,
   "metadata": {},
   "outputs": [
    {
     "name": "stderr",
     "output_type": "stream",
     "text": [
      "3179it [27:49,  1.90it/s]\n"
     ]
    }
   ],
   "source": [
    "cursor = FBW.aql.execute('FOR doc IN Businesses RETURN doc', ttl=5000)\n",
    "for document in tqdm(cursor, total=cursor.count()):\n",
    "    if (\"Clean_Text\" in document):\n",
    "        document[\"Clean_Text\"] = lower_punct_number_clean(document[\"Clean_Text\"], 3)\n",
    "        BusinessCollection.update(document) "
   ]
  },
  {
   "cell_type": "code",
   "execution_count": 94,
   "metadata": {},
   "outputs": [
    {
     "name": "stderr",
     "output_type": "stream",
     "text": [
      "3179it [03:11, 16.60it/s] \n"
     ]
    }
   ],
   "source": [
    "cursorx = FBW.aql.execute('FOR doc IN Businesses RETURN doc', ttl=5000)\n",
    "for document in tqdm(cursorx, total=cursorx.count()):\n",
    "    if (\"Clean_Text\" in document):\n",
    "        document[\"Language\"] = language_detector(document[\"Clean_Text\"])\n",
    "        BusinessCollection.update(document) "
   ]
  },
  {
   "cell_type": "code",
   "execution_count": 96,
   "metadata": {},
   "outputs": [
    {
     "name": "stdout",
     "output_type": "stream",
     "text": [
      "nl    1973\n",
      "en     882\n",
      "fr      25\n",
      "af       9\n",
      "de       8\n",
      "da       2\n",
      "it       2\n",
      "ro       2\n",
      "es       1\n",
      "hr       1\n",
      "lt       1\n",
      "pl       1\n",
      "sv       1\n",
      "ca       1\n",
      "sk       1\n",
      "pt       1\n",
      "sl       1\n",
      "cy       1\n",
      "dtype: int64\n"
     ]
    }
   ],
   "source": [
    "language_list = []\n",
    "\n",
    "cursor = FBW.aql.execute('FOR doc IN Businesses RETURN doc', ttl=5000)\n",
    "for document in tqdm(cursor, total=cursor.count()):\n",
    "    if (\"Language\" in document):\n",
    "        language_list.append(document[\"Language\"])\n",
    "clear_output(wait=True)       \n",
    "print(pd.Series(language_list).value_counts())"
   ]
  },
  {
   "cell_type": "code",
   "execution_count": 11,
   "metadata": {},
   "outputs": [
    {
     "data": {
      "text/plain": [
       "'skip content search menu home products people sustainability investors share bond reports presentations corporate governance stock exchange filings financial calendar resources contact contact news search mowi ranked sustainable protein producer mowi ranked worlds sustainable protein producer second year row fairr initiative read operational ebit eur million third quarter mowi results third quarter published read mowis soy suppliers commit deforestation free supply chain read mowi collaborates alphabets innovation engine make salmon farming sustainable mowi works tidal ocean health sustainability team test research new technologies read worlds largest supplier farmraised salmon mowi harnesses nature produce nutritious tasty supreme quality food ocean result ongoing innovation sustainable development worlds largest supplier farmraised salmon satisfying one fifth global demand products consistently delivering delicious nutritious healthy seafood thanks worldleading innovative sustainable approach offer wide selection healthy delicious responsibly produced seafood brands products join blue revolution mowi people core business employees worlds largest salmon farming company always lookout driven ambitious forwardthinking people come join team work caring makes profitable mowi asa worlds leading seafood company worlds largest producer atlantic salmon company employs people represented countries company turnover eur billion mowi listed oslo stock exchange ose share also trades otc market stock price oslo stock exchange ose xxxxx nok xxx cet otc market xxxx usd xxx cet investor information potential ocean key ensuring planet enough food yet worlds current food supply comes ocean footprint uniquely low carbon footprint aquaculture potential play ever relevant role providing food growing world population healthy diet salmon play key role healthy diet packed highquality protein also rich source omega vitamins minerals animal welfare approach fish welfare health second none take pride great care rearing fish highest standards possible sustainability close privacy policy copyright mowi products people sustainability investors contact visit national website mowi ireland mowi canada west mowi norway mowi scotland mowi china mowi faroe islands mowi japan mowi taiwan mowi singapore mowi netherlands mowi belgium mowi turkey mowi poland mowi usa mowi italy follow'"
      ]
     },
     "execution_count": 11,
     "metadata": {},
     "output_type": "execute_result"
    }
   ],
   "source": [
    "#Filtering stopwords \n",
    "remove_stopwords(BusinessCollection[\"426019644\"][\"Clean_Text\"], BusinessCollection[\"426019644\"][\"Language\"])"
   ]
  },
  {
   "cell_type": "code",
   "execution_count": 66,
   "metadata": {},
   "outputs": [
    {
     "data": {
      "text/plain": [
       "'skip content search menu home product peopl sustain investor share bond report present corpor govern stock exchang file financi calendar resourc contact contact news search mowi rank sustain protein produc mowi rank world sustain protein produc second year row fairr initi read oper ebit eur million third quarter mowi result third quarter publish read mowi soy supplier commit deforest free suppli chain read mowi collabor alphabet innov engin make salmon farm sustain mowi work tidal ocean health sustain team test research new technolog read world largest supplier farmrais salmon mowi har natur produc nutriti tasti suprem qualiti food ocean result ongo innov sustain develop world largest supplier farmrais salmon satisfi one fifth global demand product consist deliv delici nutriti healthi seafood thank worldlead innov sustain approach offer wide select healthi delici respons produc seafood brand product join blue revolut mowi peopl core busi employe world largest salmon farm compani alway lookout driven ambiti forwardthink peopl come join team work care make profit mowi asa world lead seafood compani world largest produc atlant salmon compani employ peopl repres countri compani turnov eur billion mowi list oslo stock exchang ose share also trade otc market stock price oslo stock exchang ose xxxxx nok xxx cet otc market xxxx usd xxx cet investor inform potenti ocean key ensur planet enough food yet world current food suppli come ocean footprint uniqu low carbon footprint aquacultur potenti play ever relev role provid food grow world popul healthi diet salmon play key role healthi diet pack highqual protein also rich sourc omega vitamin miner anim welfar approach fish welfar health second none take pride great care rear fish highest standard possibl sustain close privaci polici copyright mowi product peopl sustain investor contact visit nation websit mowi ireland mowi canada west mowi norway mowi scotland mowi china mowi faro island mowi japan mowi taiwan mowi singapor mowi netherland mowi belgium mowi turkey mowi poland mowi usa mowi itali follow'"
      ]
     },
     "execution_count": 66,
     "metadata": {},
     "output_type": "execute_result"
    }
   ],
   "source": [
    "#Stemming after removing stopwords\n",
    "stem_text(remove_stopwords(BusinessCollection[\"426019644\"][\"Clean_Text\"], BusinessCollection[\"426019644\"][\"Language\"]), BusinessCollection[\"426019644\"][\"Language\"])"
   ]
  },
  {
   "cell_type": "code",
   "execution_count": 78,
   "metadata": {},
   "outputs": [
    {
     "data": {
      "text/plain": [
       "322"
      ]
     },
     "execution_count": 78,
     "metadata": {},
     "output_type": "execute_result"
    }
   ],
   "source": [
    "#Count number of words to filter down < 10\n",
    "count_words(stem_text(remove_stopwords(BusinessCollection[\"426019644\"][\"Clean_Text\"], BusinessCollection[\"426019644\"][\"Language\"]), BusinessCollection[\"426019644\"][\"Language\"]))"
   ]
  },
  {
   "cell_type": "code",
   "execution_count": 19,
   "metadata": {},
   "outputs": [
    {
     "name": "stderr",
     "output_type": "stream",
     "text": [
      "3179it [00:51, 61.23it/s] \n"
     ]
    }
   ],
   "source": [
    "cursor = FBW.aql.execute('FOR doc IN Businesses RETURN doc', ttl=5000)\n",
    "for document in tqdm(cursor, total=cursor.count()):\n",
    "    if ((\"Clean_Text\" in document) and (\"Language\" in document)):\n",
    "        temp_text = remove_stopwords(document[\"Clean_Text\"], document[\"Language\"])\n",
    "        if((temp_text is not None) and (count_words(temp_text) >= 20)):\n",
    "            document[\"Final_Text_IR04\"] = temp_text\n",
    "        BusinessCollection.update(document) "
   ]
  },
  {
   "cell_type": "code",
   "execution_count": 22,
   "metadata": {},
   "outputs": [
    {
     "data": {
      "text/plain": [
       "'skip content search menu home product peopl sustain investor share bond report present corpor govern stock exchang file financi calendar resourc contact contact news search mowi rank sustain protein produc mowi rank world sustain protein produc second year row fairr initi read oper ebit eur million third quarter mowi result third quarter publish read mowi soy supplier commit deforest free suppli chain read mowi collabor alphabet innov engin make salmon farm sustain mowi work tidal ocean health sustain team test research new technolog read world largest supplier farmrais salmon mowi har natur produc nutriti tasti suprem qualiti food ocean result ongo innov sustain develop world largest supplier farmrais salmon satisfi one fifth global demand product consist deliv delici nutriti healthi seafood thank worldlead innov sustain approach offer wide select healthi delici respons produc seafood brand product join blue revolut mowi peopl core busi employe world largest salmon farm compani alway lookout driven ambiti forwardthink peopl come join team work care make profit mowi asa world lead seafood compani world largest produc atlant salmon compani employ peopl repres countri compani turnov eur billion mowi list oslo stock exchang ose share also trade otc market stock price oslo stock exchang ose xxxxx nok xxx cet otc market xxxx usd xxx cet investor inform potenti ocean key ensur planet enough food yet world current food suppli come ocean footprint uniqu low carbon footprint aquacultur potenti play ever relev role provid food grow world popul healthi diet salmon play key role healthi diet pack highqual protein also rich sourc omega vitamin miner anim welfar approach fish welfar health second none take pride great care rear fish highest standard possibl sustain close privaci polici copyright mowi product peopl sustain investor contact visit nation websit mowi ireland mowi canada west mowi norway mowi scotland mowi china mowi faro island mowi japan mowi taiwan mowi singapor mowi netherland mowi belgium mowi turkey mowi poland mowi usa mowi itali follow'"
      ]
     },
     "execution_count": 22,
     "metadata": {},
     "output_type": "execute_result"
    }
   ],
   "source": [
    "BusinessCollection[\"426019644\"][\"Final_Text_IR01\"]"
   ]
  },
  {
   "cell_type": "code",
   "execution_count": 89,
   "metadata": {},
   "outputs": [
    {
     "name": "stdout",
     "output_type": "stream",
     "text": [
      "Total Websites in the Final Set:  2778\n"
     ]
    }
   ],
   "source": [
    "count_n = 0 \n",
    "cursor = FBW.aql.execute('FOR doc IN Businesses RETURN doc', ttl=5000)\n",
    "for document in tqdm(cursor, total=cursor.count()):\n",
    "    if (\"Final_Text_IR01\" in document):\n",
    "        count_n += 1 \n",
    "clear_output(wait=True)\n",
    "print(\"Total Websites in the Final Set: \", count_n)"
   ]
  },
  {
   "cell_type": "code",
   "execution_count": 23,
   "metadata": {},
   "outputs": [
    {
     "name": "stdout",
     "output_type": "stream",
     "text": [
      "Total Websites in the Final Set:  2698\n"
     ]
    }
   ],
   "source": [
    "count_n = 0 \n",
    "cursor = FBW.aql.execute('FOR doc IN Businesses RETURN doc', ttl=5000)\n",
    "for document in tqdm(cursor, total=cursor.count()):\n",
    "    if (\"Final_Text_IR04\" in document):\n",
    "        count_n += 1 \n",
    "clear_output(wait=True)\n",
    "print(\"Total Websites in the Final Set: \", count_n)"
   ]
  },
  {
   "cell_type": "markdown",
   "metadata": {},
   "source": [
    "### Sensitivy Analysis Data Creation"
   ]
  },
  {
   "cell_type": "code",
   "execution_count": 4,
   "metadata": {},
   "outputs": [
    {
     "name": "stderr",
     "output_type": "stream",
     "text": [
      "3179it [03:29, 15.17it/s]\n"
     ]
    }
   ],
   "source": [
    "cursor = FBW.aql.execute('FOR doc IN Businesses RETURN doc', ttl=5000)\n",
    "for document in tqdm(cursor, total=cursor.count()):\n",
    "    if ((\"HTML_R1_NOV20\" in document) or (\"HTML_R2_NOV20\" in document)):\n",
    "        if(document[\"HTML_R1_NOV20\"] is not None):\n",
    "            document[\"Clean_Text_SA\"] = clean_pop_cookie_frame(document[\"HTML_R1_NOV20\"])\n",
    "        elif(document[\"HTML_R2_NOV20\"] is not None):\n",
    "            document[\"Clean_Text_SA\"] = clean_pop_cookie_frame(document[\"HTML_R2_NOV20\"])\n",
    "        BusinessCollection.update(document) "
   ]
  },
  {
   "cell_type": "code",
   "execution_count": 69,
   "metadata": {},
   "outputs": [],
   "source": [
    "#Sensitivity Parameters\n",
    "\n",
    "processing_id = \"SA16\"\n",
    "stem_bool = False\n",
    "remove_sequence_length = 2\n",
    "stopwords_bool = False\n",
    "minimum_document_length = 20"
   ]
  },
  {
   "cell_type": "code",
   "execution_count": 70,
   "metadata": {},
   "outputs": [
    {
     "name": "stderr",
     "output_type": "stream",
     "text": [
      "3179it [00:41, 76.78it/s] \n"
     ]
    }
   ],
   "source": [
    "cursor = FBW.aql.execute('FOR doc IN Businesses RETURN doc', ttl=5000)\n",
    "for document in tqdm(cursor, total=cursor.count()):\n",
    "    if ((\"Clean_Text_SA\" in document) and (\"Language\" in document)):\n",
    "        document[processing_id] = lower_punct_number_clean(document[\"Clean_Text_SA\"], remove_sequence_length)\n",
    "        if(stopwords_bool): \n",
    "            temp_text = remove_stopwords(document[processing_id], document[\"Language\"])\n",
    "        else:\n",
    "            temp_text = document[processing_id]\n",
    "        if((temp_text is not None) and (count_words(temp_text) >= minimum_document_length)):\n",
    "            if(stem_bool):\n",
    "                document[processing_id] = stem_text(temp_text, document[\"Language\"])\n",
    "            else:\n",
    "                document[processing_id] = temp_text\n",
    "        BusinessCollection.update(document) "
   ]
  },
  {
   "cell_type": "code",
   "execution_count": 17,
   "metadata": {},
   "outputs": [
    {
     "data": {
      "text/plain": [
       "'servic aanvrag offert fir woodlin urban lin pur lin classic lin interior woodlin urban lin pur lin classic lin referenties showrom professional contact fir woodlin urban lin pur lin classic lin interior woodlin urban lin pur lin classic lin referenties showrom professional contact servic aanvrag fir interior concept person virtueel bezoek mak afsprak bel fir interior concept warm thuis begint gezell interieur puntjes afgewerkt ingebouwd maatwerkkast mat gemaakt multimediawand ecologisch haard complet renovaties keuken slap suitebadkamer uniek person sfer daarvor zorgt vuyst fir interior concept fir interior wij ontwerp sam fir biedt houthaard gashaard gegot mooi design prachtig vormgev mat gemaakt interieur interior strev voortdur perfect balan tuss functionaliteit design gloednieuw atelier bereid plaatsing thuis grondig rek verder onz hog afwerkingsgrad proactiev onderhoudsservic eig hersteldienst fir interior referenties bekijk all referenties vuyst begrep meten wij will won volled uitwerk nam waardor wij gerust even tussenuit kond jan bruycker januari offert interes onz haardvur interieur oploss vrag gratis offert antwoord snel vrag offert meerk zottegem infodevuystb btw nervirstrat ass assedevuystb openingsur zottegem vrij zaterdag openingsur ass afsprak woe geslot vrij zat zon geslot vuyst architectur haardvur zottegem ass all recht voorbehoud privacy policy disclaimer websit atelier'"
      ]
     },
     "execution_count": 17,
     "metadata": {},
     "output_type": "execute_result"
    }
   ],
   "source": [
    "BusinessCollection[\"421138663\"][\"SA01\"]"
   ]
  },
  {
   "cell_type": "code",
   "execution_count": 62,
   "metadata": {},
   "outputs": [
    {
     "data": {
      "text/plain": [
       "'service aanvraag offerte fire woodline urban line pure line classic line interior woodline urban line pure line classic line referenties showrooms professional over ons contact fire woodline urban line pure line classic line interior woodline urban line pure line classic line referenties showrooms professional over ons contact service aanvraag fire interior concepts een persoonlijk virtueel bezoek maak een afspraak bel fire interior concepts een warme thuis begint met een gezellig interieur dat tot puntjes afgewerkt van ingebouwde maatwerkkasten maat gemaakte multimediawanden ecologische haarden tot complete renovaties van keukens slaap suitebadkamers alles unieke persoonlijke sfeer daarvoor zorgt vuyst fire interior concepts fire interior wat doen wij ontwerpen samen met fire biedt houthaarden gashaarden aan gegoten mooie designs voor prachtige vormgeving van maat gemaakte interieur moet bij interior zijn streven voortdurend naar een perfecte balans tussen functionaliteit design ons gloednieuw atelier bereiden plaatsing bij thuis grondig voor reken verder onze hoge afwerkingsgraad proactieve onderhoudsservice eigen hersteldienst fire interior referenties bekijk alle referenties vuyst begreep meteen hoe wij willen wonen volledige uitwerking namen voor zich waardoor wij gerust even tussenuit konden jan bruycker januari offerte interesse onze haardvuren interieur oplossingen vraag een gratis offerte antwoorden snel vraag offerte aan meerken zottegem infodevuystbe btw nervirstraat asse assedevuystbe openingsuren zottegem vrij van tot zaterdag van tot openingsuren asse afspraak woe gesloten vrij zat tot zon gesloten vuyst architectuur haardvuur zottegem asse alle rechten voorbehouden privacy policy disclaimer website door atelier'"
      ]
     },
     "execution_count": 62,
     "metadata": {},
     "output_type": "execute_result"
    }
   ],
   "source": [
    "BusinessCollection[\"421138663\"][\"SA12\"]"
   ]
  },
  {
   "cell_type": "code",
   "execution_count": 71,
   "metadata": {},
   "outputs": [
    {
     "data": {
      "text/plain": [
       "'service aanvraag offerte fire woodline urban line pure line classic line interior woodline urban line pure line classic line referenties showrooms professional over ons contact fire woodline urban line pure line classic line interior woodline urban line pure line classic line referenties showrooms professional over ons contact service aanvraag fire interior concepts een persoonlijk virtueel bezoek maak een afspraak of bel fire interior concepts een warme thuis begint met een gezellig interieur dat tot in de puntjes is afgewerkt van ingebouwde maatwerkkasten op maat gemaakte multimediawanden en ecologische haarden tot complete renovaties van keukens of slaap en en suitebadkamers alles in uw unieke en persoonlijke sfeer daarvoor zorgt de vuyst fire interior concepts fire interior wat doen we wij ontwerpen samen met fire biedt houthaarden en gashaarden aan gegoten in mooie designs voor de prachtige vormgeving van uw op maat gemaakte interieur moet bij interior zijn we streven voortdurend naar een perfecte balans tussen functionaliteit en design in ons gloednieuw atelier bereiden we de plaatsing bij thuis grondig voor reken verder op onze hoge afwerkingsgraad proactieve onderhoudsservice en eigen hersteldienst fire interior referenties bekijk alle referenties de vuyst begreep meteen hoe wij willen wonen de volledige uitwerking namen ze voor zich waardoor wij er gerust even tussenuit konden jan de bruycker januari offerte interesse in onze haardvuren of interieur oplossingen vraag een gratis offerte en we antwoorden snel vraag offerte aan meerken zottegem infodevuystbe btw be nervirstraat asse assedevuystbe openingsuren zottegem ma vrij van tot zaterdag van tot openingsuren asse ma di op afspraak woe gesloten do vrij zat tot zon gesloten de vuyst architectuur in haardvuur zottegem en asse alle rechten voorbehouden privacy policy disclaimer website door atelier'"
      ]
     },
     "execution_count": 71,
     "metadata": {},
     "output_type": "execute_result"
    }
   ],
   "source": [
    "BusinessCollection[\"421138663\"][\"SA16\"]"
   ]
  },
  {
   "cell_type": "markdown",
   "metadata": {},
   "source": [
    "### Transformer Dataset Raw Output"
   ]
  },
  {
   "cell_type": "code",
   "execution_count": 72,
   "metadata": {},
   "outputs": [],
   "source": [
    "def database_to_transformers(revision):\n",
    "    text = []\n",
    "    innovation = []\n",
    "    cursor = FBW.aql.execute('FOR doc IN Businesses RETURN doc', ttl=5000)\n",
    "    for document in cursor:\n",
    "        if((revision in document) and (\"Innovation\" in document)):\n",
    "            text.append(document[revision])\n",
    "            innovation.append(document[\"Innovation\"])\n",
    "    return pd.DataFrame({'text': text,'innovation': innovation})\n",
    "\n",
    "transformer_dataset = database_to_transformers('Clean_Text_SA')\n",
    "transformer_dataset.to_csv(\"transformer_dataset_raw.csv\")"
   ]
  }
 ],
 "metadata": {
  "kernelspec": {
   "display_name": "Python 3",
   "language": "python",
   "name": "python3"
  },
  "language_info": {
   "codemirror_mode": {
    "name": "ipython",
    "version": 3
   },
   "file_extension": ".py",
   "mimetype": "text/x-python",
   "name": "python",
   "nbconvert_exporter": "python",
   "pygments_lexer": "ipython3",
   "version": "3.8.2"
  }
 },
 "nbformat": 4,
 "nbformat_minor": 4
}
