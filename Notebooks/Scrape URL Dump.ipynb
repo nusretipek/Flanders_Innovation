{
 "cells": [
  {
   "cell_type": "markdown",
   "metadata": {},
   "source": [
    "### Import Packages"
   ]
  },
  {
   "cell_type": "code",
   "execution_count": 1,
   "metadata": {},
   "outputs": [],
   "source": [
    "import pandas as pd\n",
    "import re\n",
    "import requests\n",
    "from bs4 import BeautifulSoup\n",
    "from requests.utils import requote_uri\n",
    "from fake_useragent import UserAgent\n",
    "from lxml import html\n",
    "import random\n",
    "import time\n",
    "from selenium import webdriver"
   ]
  },
  {
   "cell_type": "markdown",
   "metadata": {},
   "source": [
    "### Process Data"
   ]
  },
  {
   "cell_type": "code",
   "execution_count": 10,
   "metadata": {},
   "outputs": [
    {
     "data": {
      "text/html": [
       "<div>\n",
       "<style scoped>\n",
       "    .dataframe tbody tr th:only-of-type {\n",
       "        vertical-align: middle;\n",
       "    }\n",
       "\n",
       "    .dataframe tbody tr th {\n",
       "        vertical-align: top;\n",
       "    }\n",
       "\n",
       "    .dataframe thead th {\n",
       "        text-align: right;\n",
       "    }\n",
       "</style>\n",
       "<table border=\"1\" class=\"dataframe\">\n",
       "  <thead>\n",
       "    <tr style=\"text-align: right;\">\n",
       "      <th></th>\n",
       "      <th>ID</th>\n",
       "      <th>Naam</th>\n",
       "      <th>Provincie</th>\n",
       "      <th>Website</th>\n",
       "      <th>Country</th>\n",
       "    </tr>\n",
       "  </thead>\n",
       "  <tbody>\n",
       "    <tr>\n",
       "      <th>0</th>\n",
       "      <td>6bf8485d-29f5-e711-811e-e0071b652f71</td>\n",
       "      <td>ARTOOS</td>\n",
       "      <td>Vlaams-Brabant</td>\n",
       "      <td>https://www.artoos.com</td>\n",
       "      <td>Belgium</td>\n",
       "    </tr>\n",
       "    <tr>\n",
       "      <th>1</th>\n",
       "      <td>eb1676b1-9796-e611-80f3-5065f38b1581</td>\n",
       "      <td>AUTOMATION</td>\n",
       "      <td>Vlaams-Brabant</td>\n",
       "      <td>https://www.automation.be</td>\n",
       "      <td>Belgium</td>\n",
       "    </tr>\n",
       "    <tr>\n",
       "      <th>2</th>\n",
       "      <td>1454d150-d778-e611-80ef-5065f38b1581</td>\n",
       "      <td>BIOTECHNOLOGICAL ENZYMATIC CATALYSE</td>\n",
       "      <td>Oost-Vlaanderen</td>\n",
       "      <td>http://www.bienca.com</td>\n",
       "      <td>Belgium</td>\n",
       "    </tr>\n",
       "    <tr>\n",
       "      <th>3</th>\n",
       "      <td>29eda1f5-842c-e611-815c-c4346bad60c4</td>\n",
       "      <td>DE SUTTER</td>\n",
       "      <td>Vlaams-Brabant</td>\n",
       "      <td>https://www.desutter-naturally.com</td>\n",
       "      <td>Belgium</td>\n",
       "    </tr>\n",
       "    <tr>\n",
       "      <th>4</th>\n",
       "      <td>87296532-fd6d-e611-80e5-5065f38bc5a1</td>\n",
       "      <td>DS-WIND</td>\n",
       "      <td>Limburg</td>\n",
       "      <td>NaN</td>\n",
       "      <td>Belgium</td>\n",
       "    </tr>\n",
       "  </tbody>\n",
       "</table>\n",
       "</div>"
      ],
      "text/plain": [
       "                                     ID                                  Naam  \\\n",
       "0  6bf8485d-29f5-e711-811e-e0071b652f71                                ARTOOS   \n",
       "1  eb1676b1-9796-e611-80f3-5065f38b1581                            AUTOMATION   \n",
       "2  1454d150-d778-e611-80ef-5065f38b1581   BIOTECHNOLOGICAL ENZYMATIC CATALYSE   \n",
       "3  29eda1f5-842c-e611-815c-c4346bad60c4                             DE SUTTER   \n",
       "4  87296532-fd6d-e611-80e5-5065f38bc5a1                               DS-WIND   \n",
       "\n",
       "         Provincie                             Website  Country  \n",
       "0   Vlaams-Brabant              https://www.artoos.com  Belgium  \n",
       "1   Vlaams-Brabant           https://www.automation.be  Belgium  \n",
       "2  Oost-Vlaanderen               http://www.bienca.com  Belgium  \n",
       "3   Vlaams-Brabant  https://www.desutter-naturally.com  Belgium  \n",
       "4          Limburg                                 NaN  Belgium  "
      ]
     },
     "execution_count": 10,
     "metadata": {},
     "output_type": "execute_result"
    }
   ],
   "source": [
    "FILE = 'urldump.xlsx'\n",
    "url_dump = pd.read_excel(FILE, sheet_name='Sheet1')\n",
    "url_dump.head()"
   ]
  },
  {
   "cell_type": "code",
   "execution_count": 18,
   "metadata": {},
   "outputs": [
    {
     "data": {
      "text/html": [
       "<div>\n",
       "<style scoped>\n",
       "    .dataframe tbody tr th:only-of-type {\n",
       "        vertical-align: middle;\n",
       "    }\n",
       "\n",
       "    .dataframe tbody tr th {\n",
       "        vertical-align: top;\n",
       "    }\n",
       "\n",
       "    .dataframe thead th {\n",
       "        text-align: right;\n",
       "    }\n",
       "</style>\n",
       "<table border=\"1\" class=\"dataframe\">\n",
       "  <thead>\n",
       "    <tr style=\"text-align: right;\">\n",
       "      <th></th>\n",
       "      <th>ID</th>\n",
       "      <th>Naam</th>\n",
       "      <th>Provincie</th>\n",
       "      <th>Website</th>\n",
       "      <th>Country</th>\n",
       "    </tr>\n",
       "  </thead>\n",
       "  <tbody>\n",
       "    <tr>\n",
       "      <th>4</th>\n",
       "      <td>87296532-fd6d-e611-80e5-5065f38bc5a1</td>\n",
       "      <td>DS-WIND</td>\n",
       "      <td>Limburg</td>\n",
       "      <td>NaN</td>\n",
       "      <td>Belgium</td>\n",
       "    </tr>\n",
       "    <tr>\n",
       "      <th>9</th>\n",
       "      <td>4f3430c7-2af5-e711-811e-e0071b652f71</td>\n",
       "      <td>LARES</td>\n",
       "      <td>Limburg</td>\n",
       "      <td>NaN</td>\n",
       "      <td>Belgium</td>\n",
       "    </tr>\n",
       "    <tr>\n",
       "      <th>16</th>\n",
       "      <td>830d10be-2bf5-e711-8126-e0071b65be81</td>\n",
       "      <td>VANNEELS</td>\n",
       "      <td>Antwerpen</td>\n",
       "      <td>NaN</td>\n",
       "      <td>Belgium</td>\n",
       "    </tr>\n",
       "    <tr>\n",
       "      <th>19</th>\n",
       "      <td>458ead00-29f5-e711-8126-e0071b65be81</td>\n",
       "      <td>!Nspire</td>\n",
       "      <td>Limburg</td>\n",
       "      <td>NaN</td>\n",
       "      <td>Belgium</td>\n",
       "    </tr>\n",
       "    <tr>\n",
       "      <th>22</th>\n",
       "      <td>00233b99-1928-eb11-a813-0022489bb663</td>\n",
       "      <td>\"Delcampo\"; \"Delcampo Creative Consulting”; “V...</td>\n",
       "      <td>Antwerpen</td>\n",
       "      <td>NaN</td>\n",
       "      <td>Belgium</td>\n",
       "    </tr>\n",
       "  </tbody>\n",
       "</table>\n",
       "</div>"
      ],
      "text/plain": [
       "                                      ID  \\\n",
       "4   87296532-fd6d-e611-80e5-5065f38bc5a1   \n",
       "9   4f3430c7-2af5-e711-811e-e0071b652f71   \n",
       "16  830d10be-2bf5-e711-8126-e0071b65be81   \n",
       "19  458ead00-29f5-e711-8126-e0071b65be81   \n",
       "22  00233b99-1928-eb11-a813-0022489bb663   \n",
       "\n",
       "                                                 Naam  Provincie Website  \\\n",
       "4                                             DS-WIND    Limburg     NaN   \n",
       "9                                               LARES    Limburg     NaN   \n",
       "16                                           VANNEELS  Antwerpen     NaN   \n",
       "19                                            !Nspire    Limburg     NaN   \n",
       "22  \"Delcampo\"; \"Delcampo Creative Consulting”; “V...  Antwerpen     NaN   \n",
       "\n",
       "    Country  \n",
       "4   Belgium  \n",
       "9   Belgium  \n",
       "16  Belgium  \n",
       "19  Belgium  \n",
       "22  Belgium  "
      ]
     },
     "execution_count": 18,
     "metadata": {},
     "output_type": "execute_result"
    }
   ],
   "source": [
    "url_missing = url_dump[url_dump['Website'].isnull()]\n",
    "url_missing.head()"
   ]
  },
  {
   "cell_type": "code",
   "execution_count": 14,
   "metadata": {},
   "outputs": [
    {
     "data": {
      "text/html": [
       "<div>\n",
       "<style scoped>\n",
       "    .dataframe tbody tr th:only-of-type {\n",
       "        vertical-align: middle;\n",
       "    }\n",
       "\n",
       "    .dataframe tbody tr th {\n",
       "        vertical-align: top;\n",
       "    }\n",
       "\n",
       "    .dataframe thead th {\n",
       "        text-align: right;\n",
       "    }\n",
       "</style>\n",
       "<table border=\"1\" class=\"dataframe\">\n",
       "  <thead>\n",
       "    <tr style=\"text-align: right;\">\n",
       "      <th></th>\n",
       "      <th>ID</th>\n",
       "      <th>Naam</th>\n",
       "      <th>Provincie</th>\n",
       "      <th>Website</th>\n",
       "      <th>Country</th>\n",
       "    </tr>\n",
       "  </thead>\n",
       "  <tbody>\n",
       "    <tr>\n",
       "      <th>0</th>\n",
       "      <td>6bf8485d-29f5-e711-811e-e0071b652f71</td>\n",
       "      <td>ARTOOS</td>\n",
       "      <td>Vlaams-Brabant</td>\n",
       "      <td>https://www.artoos.com</td>\n",
       "      <td>Belgium</td>\n",
       "    </tr>\n",
       "    <tr>\n",
       "      <th>1</th>\n",
       "      <td>eb1676b1-9796-e611-80f3-5065f38b1581</td>\n",
       "      <td>AUTOMATION</td>\n",
       "      <td>Vlaams-Brabant</td>\n",
       "      <td>https://www.automation.be</td>\n",
       "      <td>Belgium</td>\n",
       "    </tr>\n",
       "    <tr>\n",
       "      <th>2</th>\n",
       "      <td>1454d150-d778-e611-80ef-5065f38b1581</td>\n",
       "      <td>BIOTECHNOLOGICAL ENZYMATIC CATALYSE</td>\n",
       "      <td>Oost-Vlaanderen</td>\n",
       "      <td>http://www.bienca.com</td>\n",
       "      <td>Belgium</td>\n",
       "    </tr>\n",
       "    <tr>\n",
       "      <th>3</th>\n",
       "      <td>29eda1f5-842c-e611-815c-c4346bad60c4</td>\n",
       "      <td>DE SUTTER</td>\n",
       "      <td>Vlaams-Brabant</td>\n",
       "      <td>https://www.desutter-naturally.com</td>\n",
       "      <td>Belgium</td>\n",
       "    </tr>\n",
       "    <tr>\n",
       "      <th>5</th>\n",
       "      <td>feb85200-34f5-e711-816d-e0071b66d0e1</td>\n",
       "      <td>EDDY MERCKX CYCLES</td>\n",
       "      <td>Vlaams-Brabant</td>\n",
       "      <td>https://www.eddymerckx.com</td>\n",
       "      <td>Belgium</td>\n",
       "    </tr>\n",
       "  </tbody>\n",
       "</table>\n",
       "</div>"
      ],
      "text/plain": [
       "                                     ID                                  Naam  \\\n",
       "0  6bf8485d-29f5-e711-811e-e0071b652f71                                ARTOOS   \n",
       "1  eb1676b1-9796-e611-80f3-5065f38b1581                            AUTOMATION   \n",
       "2  1454d150-d778-e611-80ef-5065f38b1581   BIOTECHNOLOGICAL ENZYMATIC CATALYSE   \n",
       "3  29eda1f5-842c-e611-815c-c4346bad60c4                             DE SUTTER   \n",
       "5  feb85200-34f5-e711-816d-e0071b66d0e1                    EDDY MERCKX CYCLES   \n",
       "\n",
       "         Provincie                             Website  Country  \n",
       "0   Vlaams-Brabant              https://www.artoos.com  Belgium  \n",
       "1   Vlaams-Brabant           https://www.automation.be  Belgium  \n",
       "2  Oost-Vlaanderen               http://www.bienca.com  Belgium  \n",
       "3   Vlaams-Brabant  https://www.desutter-naturally.com  Belgium  \n",
       "5   Vlaams-Brabant          https://www.eddymerckx.com  Belgium  "
      ]
     },
     "execution_count": 14,
     "metadata": {},
     "output_type": "execute_result"
    }
   ],
   "source": [
    "url_not_missing = url_dump[url_dump['Website'].notnull()]\n",
    "url_not_missing.head()"
   ]
  },
  {
   "cell_type": "code",
   "execution_count": 20,
   "metadata": {},
   "outputs": [],
   "source": [
    "url_missing.insert(5, \"Google_Result\", \"\") \n",
    "url_missing.insert(6, \"Bing_Result\", \"\") \n",
    "url_not_missing.insert(5, \"Google_Result\", \"\") \n",
    "url_not_missing.insert(6, \"Bing_Result\", \"\") "
   ]
  },
  {
   "cell_type": "code",
   "execution_count": null,
   "metadata": {},
   "outputs": [],
   "source": [
    "url_missing = url_missing.sample(n=300, random_state=123)\n",
    "url_not_missing = url_not_missing.sample(n=300, random_state=123)"
   ]
  },
  {
   "cell_type": "code",
   "execution_count": 25,
   "metadata": {},
   "outputs": [],
   "source": [
    "#Save in CSV files\n",
    "url_missing.to_csv('missing_url_random_300.csv', index=False, sep=';')\n",
    "url_not_missing.to_csv('not_missing_url_random_300.csv', index=False, sep=';')"
   ]
  },
  {
   "cell_type": "code",
   "execution_count": null,
   "metadata": {},
   "outputs": [],
   "source": [
    "#Load CSV files\n",
    "url_missing = pd.read_csv('missing_url_random_300.csv', sep=';')\n",
    "url_not_missing = pd.read_csv('not_missing_url_random_300.csv', sep=';')"
   ]
  },
  {
   "cell_type": "markdown",
   "metadata": {},
   "source": [
    "### Scrape Missing URLs"
   ]
  },
  {
   "cell_type": "code",
   "execution_count": 43,
   "metadata": {},
   "outputs": [
    {
     "name": "stdout",
     "output_type": "stream",
     "text": [
      "Iteration Number 230 Completed - Total Elapsed Time: 8.17 minutes\n",
      "Iteration Number 240 Completed - Total Elapsed Time: 16.12 minutes\n",
      "Iteration Number 250 Completed - Total Elapsed Time: 24.02 minutes\n",
      "Iteration Number 260 Completed - Total Elapsed Time: 32.15 minutes\n",
      "Iteration Number 270 Completed - Total Elapsed Time: 39.66 minutes\n",
      "Iteration Number 280 Completed - Total Elapsed Time: 47.42 minutes\n",
      "Iteration Number 290 Completed - Total Elapsed Time: 55.32 minutes\n"
     ]
    }
   ],
   "source": [
    "Counter = 0\n",
    "start = time.time()\n",
    "\n",
    "browser = webdriver.Chrome('C:\\\\Users\\\\nusret\\\\Desktop\\\\Scrapping\\\\Drivers\\\\chromedriver_89')\n",
    "browser.get('https://www.google.be/search?q=start')\n",
    "time.sleep(30)\n",
    "\n",
    "for index, row in url_missing[221:].iterrows():\n",
    "\n",
    "    #Search Google\n",
    "    Base_URL = requote_uri('https://www.google.be/search?q=' + row['Naam'] + ' bedrijf' + '&gws_rd=cr')\n",
    "    input = browser.find_element_by_name('q')\n",
    "    input.clear()\n",
    "    time.sleep(random.randint(1,3))\n",
    "    input.send_keys(row['Naam'])\n",
    "    time.sleep(random.randint(2,5))\n",
    "    try:\n",
    "        browser.find_element_by_css_selector(\"#tsf > div:nth-child(2) > div.A8SBwf.emcav > div.RNNXgb > button\").click()\n",
    "    except:\n",
    "        browser.get(Base_URL)\n",
    "        \n",
    "    soup = BeautifulSoup(browser.page_source)\n",
    "    try:\n",
    "        url_missing.loc[index, 'Google_Result'] = soup.select('#rhs > div > div.kp-blk.knowledge-panel.Wnoohf.OJXvsb > div > div.ifM9O > div > div.kp-header > div.fYOrjf.kp-hc > div.Hhmu2e.wDYxhc.NFQFxe.viOShc.LKPcQc > div > div > div > div:nth-child(1) > a')[0]['href']\n",
    "    except:\n",
    "        url_missing.loc[index, 'Google_Result'] = soup.findAll(\"cite\")[0].text.split('›')[0].rstrip()        \n",
    "    \n",
    "    time.sleep(random.randint(3,5))\n",
    "    #Search Bing\n",
    "    Base_URL = requote_uri('https://www.bing.com/search?cc=be&q=' + row['Naam'] + ' bedrijf')\n",
    "    browser.get(Base_URL)\n",
    "    time.sleep(random.randint(1,3))\n",
    "    soup = BeautifulSoup(browser.page_source)\n",
    "    try:\n",
    "        url_missing.loc[index, 'Bing_Result'] = soup.select('#b_context > li > div.b_entityTP > div:nth-child(2) > div > div > div:nth-child(2) > div > div.b_icbtns > div > div > a')[0]['href']\n",
    "    except:\n",
    "        url_missing.loc[index, 'Bing_Result'] = soup.findAll(\"cite\")[0].text.split('›')[0].rstrip()    \n",
    "   \n",
    "    if ((Counter % 10) == 0):\n",
    "        end = time.time()\n",
    "        print('Iteration Number ' + str(Counter) + ' Completed - Total Elapsed Time: %.02f minutes' % ((end - start)/60))\n",
    "    Counter += 1\n",
    "    time.sleep(random.randint(30,38))"
   ]
  },
  {
   "cell_type": "code",
   "execution_count": 16,
   "metadata": {},
   "outputs": [],
   "source": [
    "#Save scraped data\n",
    "url_missing.to_excel(\"url_missing_random_300_scraped_excel.xlsx\", sheet_name='Sheet_name_1')  "
   ]
  },
  {
   "cell_type": "markdown",
   "metadata": {},
   "source": [
    "### Scrape Non Missing URLs"
   ]
  },
  {
   "cell_type": "code",
   "execution_count": 10,
   "metadata": {},
   "outputs": [
    {
     "name": "stdout",
     "output_type": "stream",
     "text": [
      "Iteration Number 0 Completed - Total Elapsed Time: 0.81 minutes\n",
      "Iteration Number 10 Completed - Total Elapsed Time: 9.21 minutes\n",
      "Iteration Number 20 Completed - Total Elapsed Time: 16.80 minutes\n",
      "Iteration Number 30 Completed - Total Elapsed Time: 24.75 minutes\n",
      "Iteration Number 40 Completed - Total Elapsed Time: 32.82 minutes\n",
      "Iteration Number 50 Completed - Total Elapsed Time: 40.87 minutes\n",
      "Iteration Number 60 Completed - Total Elapsed Time: 48.96 minutes\n",
      "Iteration Number 70 Completed - Total Elapsed Time: 56.98 minutes\n",
      "Iteration Number 80 Completed - Total Elapsed Time: 65.29 minutes\n",
      "Iteration Number 90 Completed - Total Elapsed Time: 73.57 minutes\n",
      "Iteration Number 100 Completed - Total Elapsed Time: 81.89 minutes\n",
      "Iteration Number 110 Completed - Total Elapsed Time: 90.04 minutes\n",
      "Iteration Number 120 Completed - Total Elapsed Time: 98.23 minutes\n"
     ]
    }
   ],
   "source": [
    "Counter = 0\n",
    "start = time.time()\n",
    "\n",
    "browser = webdriver.Chrome('C:\\\\Users\\\\nusret\\\\Desktop\\\\Scrapping\\\\Drivers\\\\chromedriver_89')\n",
    "browser.get('https://www.google.be/search?q=start')\n",
    "time.sleep(30)\n",
    "\n",
    "for index, row in url_not_missing[178:].iterrows():\n",
    "\n",
    "    #Search Google\n",
    "    Base_URL = requote_uri('https://www.google.be/search?q=' + row['Naam'] + ' bedrijf' + '&gws_rd=cr')\n",
    "    input = browser.find_element_by_name('q')\n",
    "    input.clear()\n",
    "    time.sleep(random.randint(1,3))\n",
    "    input.send_keys(row['Naam'])\n",
    "    time.sleep(random.randint(2,5))\n",
    "    try:\n",
    "        browser.find_element_by_css_selector(\"#tsf > div:nth-child(2) > div.A8SBwf.emcav > div.RNNXgb > button\").click()\n",
    "    except:\n",
    "        browser.get(Base_URL)\n",
    "        \n",
    "    soup = BeautifulSoup(browser.page_source)\n",
    "    try:\n",
    "        url_not_missing.loc[index, 'Google_Result'] = soup.select('#rhs > div > div.kp-blk.knowledge-panel.Wnoohf.OJXvsb > div > div.ifM9O > div > div.kp-header > div.fYOrjf.kp-hc > div.Hhmu2e.wDYxhc.NFQFxe.viOShc.LKPcQc > div > div > div > div:nth-child(1) > a')[0]['href']\n",
    "    except:\n",
    "        url_not_missing.loc[index, 'Google_Result'] = soup.findAll(\"cite\")[0].text.split('›')[0].rstrip()        \n",
    "    \n",
    "    time.sleep(random.randint(3,5))\n",
    "    #Search Bing\n",
    "    Base_URL = requote_uri('https://www.bing.com/search?cc=be&q=' + row['Naam'] + ' bedrijf')\n",
    "    browser.get(Base_URL)\n",
    "    time.sleep(random.randint(1,3))\n",
    "    soup = BeautifulSoup(browser.page_source)\n",
    "    try:\n",
    "        url_not_missing.loc[index, 'Bing_Result'] = soup.select('#b_context > li > div.b_entityTP > div:nth-child(2) > div > div > div:nth-child(2) > div > div.b_icbtns > div > div > a')[0]['href']\n",
    "    except:\n",
    "        url_not_missing.loc[index, 'Bing_Result'] = soup.findAll(\"cite\")[0].text.split('›')[0].rstrip()    \n",
    "   \n",
    "    if ((Counter % 10) == 0):\n",
    "        end = time.time()\n",
    "        print('Iteration Number ' + str(Counter) + ' Completed - Total Elapsed Time: %.02f minutes' % ((end - start)/60))\n",
    "    Counter += 1\n",
    "    time.sleep(random.randint(30,38))"
   ]
  },
  {
   "cell_type": "code",
   "execution_count": null,
   "metadata": {},
   "outputs": [],
   "source": [
    "#Save scraped data\n",
    "url_not_missing.to_excel(\"url_not_missing_random_300_scraped_excel.xlsx\", sheet_name='Sheet_name_1')  "
   ]
  }
 ],
 "metadata": {
  "kernelspec": {
   "display_name": "Python 3",
   "language": "python",
   "name": "python3"
  },
  "language_info": {
   "codemirror_mode": {
    "name": "ipython",
    "version": 3
   },
   "file_extension": ".py",
   "mimetype": "text/x-python",
   "name": "python",
   "nbconvert_exporter": "python",
   "pygments_lexer": "ipython3",
   "version": "3.8.2"
  }
 },
 "nbformat": 4,
 "nbformat_minor": 4
}
