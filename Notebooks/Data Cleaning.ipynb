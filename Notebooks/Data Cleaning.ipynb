{
 "cells": [
  {
   "cell_type": "code",
   "execution_count": 1,
   "metadata": {},
   "outputs": [],
   "source": [
    "import pandas as pd\n",
    "import re\n",
    "import requests\n",
    "from bs4 import BeautifulSoup\n",
    "from requests.utils import requote_uri\n",
    "from fake_useragent import UserAgent\n",
    "from lxml import html\n",
    "import random\n",
    "import time\n",
    "from selenium import webdriver\n"
   ]
  },
  {
   "cell_type": "code",
   "execution_count": null,
   "metadata": {},
   "outputs": [],
   "source": [
    "FILE = 'C:\\\\Users\\\\nusret\\\\Desktop\\\\KU Leuven Documents\\\\Thesis\\\\inno5_address_toStatVla_cis19.xlsx'\n",
    "CIS_Survey_Dataframe = pd.read_excel(FILE, sheet_name='inno5_address_toStatVla_cis19')\n",
    "CIS_Survey_Dataframe.head()"
   ]
  },
  {
   "cell_type": "code",
   "execution_count": 49,
   "metadata": {},
   "outputs": [
    {
     "data": {
      "text/plain": [
       "0                www.farys.be\n",
       "1                www.pidpa.be\n",
       "2           www.water-link.be\n",
       "3                 www.iwva.be\n",
       "4                 www.imog.be\n",
       "                ...          \n",
       "3174               www.tec.be\n",
       "3175    www.stiebel-eltron.be\n",
       "3176                  No Data\n",
       "3177             www.sqli.com\n",
       "3178                  No Data\n",
       "Name: Clean_Web, Length: 3179, dtype: object"
      ]
     },
     "execution_count": 49,
     "metadata": {},
     "output_type": "execute_result"
    }
   ],
   "source": [
    "CIS_Survey_Dataframe['Clean_Web'] = ''\n",
    "for index, row in CIS_Survey_Dataframe.iterrows():\n",
    "    if ((not pd.isnull(row['cur_web'])) and (not pd.isnull(row['web']))):\n",
    "        CIS_Survey_Dataframe.loc[index,'Clean_Web'] = 'Needs Checking'\n",
    "    elif (pd.isnull(row['cur_web']) and (not pd.isnull(row['web']))):\n",
    "        CIS_Survey_Dataframe.loc[index,'Clean_Web'] = row['web']\n",
    "    elif ((not pd.isnull(row['cur_web'])) and (pd.isnull(row['web']))):\n",
    "        CIS_Survey_Dataframe.loc[index,'Clean_Web'] = row['cur_web']\n",
    "    else: \n",
    "        CIS_Survey_Dataframe.loc[index,'Clean_Web'] = 'No Data'\n",
    "CIS_Survey_Dataframe['Clean_Web']"
   ]
  },
  {
   "cell_type": "code",
   "execution_count": 50,
   "metadata": {},
   "outputs": [
    {
     "name": "stdout",
     "output_type": "stream",
     "text": [
      "There are 3179 Flemish companies in the dataset, 807 of them are missing website information. (App. 25.39%)\n",
      "\n",
      "There are 159 Flemish companies that have dual website information in the dataset. (App. 5.00%)\n"
     ]
    }
   ],
   "source": [
    "Total_Businesses = len(CIS_Survey_Dataframe)\n",
    "No_Website_Count = len(CIS_Survey_Dataframe[CIS_Survey_Dataframe['Clean_Web'] == 'No Data']) \n",
    "Dual_Website_Count = len(CIS_Survey_Dataframe[CIS_Survey_Dataframe['Clean_Web'] == 'Needs Checking']) \n",
    "\n",
    "print('There are %d Flemish companies in the dataset, %d of them are missing website information. (App. %.02f' \n",
    "      %(Total_Businesses,No_Website_Count, (100*(No_Website_Count/Total_Businesses))) + '%)')\n",
    "print('\\nThere are %d Flemish companies that have dual website information in the dataset. (App. %.02f' \n",
    "      %(Dual_Website_Count, (100*(Dual_Website_Count/Total_Businesses))) + '%)')"
   ]
  },
  {
   "cell_type": "code",
   "execution_count": null,
   "metadata": {},
   "outputs": [],
   "source": [
    "URL_Check_Daraframe = CIS_Survey_Dataframe.iloc[0:0]\n",
    "for index, row in CIS_Survey_Dataframe.iterrows():\n",
    "    if((row['Clean_Web'] == 'No Data') | (row['Clean_Web'] == 'Needs Checking')):\n",
    "        URL_Check_Daraframe = URL_Check_Daraframe.append(row)\n",
    "URL_Check_Daraframe = URL_Check_Daraframe.reset_index()\n",
    "URL_Check_Daraframe"
   ]
  },
  {
   "cell_type": "code",
   "execution_count": null,
   "metadata": {},
   "outputs": [],
   "source": [
    "for index, row in URL_Check_Daraframe.iterrows():\n",
    "    URL_Check_Daraframe.loc[index, 'Search_Phrase'] = (re.sub('\\n', '', re.sub(' +', ' ', str(row['cur_firm']))))\n",
    "URL_Check_Daraframe_Compact = URL_Check_Daraframe.loc[:,['btw', 'Search_Phrase', 'cur_street1', 'finalzip']]\n",
    "URL_Check_Daraframe_Compact['Web_Result_1'] = ''\n",
    "URL_Check_Daraframe_Compact['Web_Result_2'] = ''\n",
    "URL_Check_Daraframe_Compact['Web_Result_3'] = ''\n",
    "URL_Check_Daraframe_Compact"
   ]
  },
  {
   "cell_type": "code",
   "execution_count": 43,
   "metadata": {},
   "outputs": [
    {
     "name": "stdout",
     "output_type": "stream",
     "text": [
      "Iteration Number 240 Completed - Total Elapsed Time: 1.28 minutes\n",
      "Iteration Number 250 Completed - Total Elapsed Time: 7.48 minutes\n",
      "Iteration Number 260 Completed - Total Elapsed Time: 13.42 minutes\n",
      "Iteration Number 270 Completed - Total Elapsed Time: 19.25 minutes\n",
      "Iteration Number 280 Completed - Total Elapsed Time: 25.40 minutes\n",
      "Iteration Number 290 Completed - Total Elapsed Time: 31.54 minutes\n",
      "Iteration Number 300 Completed - Total Elapsed Time: 37.45 minutes\n",
      "Iteration Number 310 Completed - Total Elapsed Time: 43.59 minutes\n",
      "Iteration Number 320 Completed - Total Elapsed Time: 49.70 minutes\n",
      "Iteration Number 330 Completed - Total Elapsed Time: 55.64 minutes\n",
      "Iteration Number 340 Completed - Total Elapsed Time: 61.75 minutes\n",
      "Iteration Number 350 Completed - Total Elapsed Time: 67.93 minutes\n",
      "Iteration Number 360 Completed - Total Elapsed Time: 74.20 minutes\n",
      "Iteration Number 370 Completed - Total Elapsed Time: 80.29 minutes\n",
      "Iteration Number 380 Completed - Total Elapsed Time: 86.40 minutes\n",
      "Iteration Number 390 Completed - Total Elapsed Time: 92.51 minutes\n",
      "Iteration Number 400 Completed - Total Elapsed Time: 98.40 minutes\n",
      "Iteration Number 410 Completed - Total Elapsed Time: 104.69 minutes\n",
      "Iteration Number 420 Completed - Total Elapsed Time: 110.66 minutes\n",
      "Iteration Number 430 Completed - Total Elapsed Time: 116.63 minutes\n",
      "Iteration Number 440 Completed - Total Elapsed Time: 122.74 minutes\n",
      "Iteration Number 450 Completed - Total Elapsed Time: 128.68 minutes\n",
      "Iteration Number 460 Completed - Total Elapsed Time: 134.72 minutes\n",
      "Iteration Number 470 Completed - Total Elapsed Time: 140.89 minutes\n",
      "Iteration Number 480 Completed - Total Elapsed Time: 146.76 minutes\n",
      "Iteration Number 490 Completed - Total Elapsed Time: 153.14 minutes\n",
      "Iteration Number 500 Completed - Total Elapsed Time: 159.37 minutes\n",
      "Iteration Number 510 Completed - Total Elapsed Time: 165.48 minutes\n",
      "Iteration Number 520 Completed - Total Elapsed Time: 171.67 minutes\n",
      "Iteration Number 530 Completed - Total Elapsed Time: 177.85 minutes\n",
      "Iteration Number 540 Completed - Total Elapsed Time: 183.95 minutes\n",
      "Iteration Number 550 Completed - Total Elapsed Time: 190.26 minutes\n",
      "Iteration Number 560 Completed - Total Elapsed Time: 196.49 minutes\n",
      "Iteration Number 570 Completed - Total Elapsed Time: 202.53 minutes\n",
      "Iteration Number 580 Completed - Total Elapsed Time: 208.69 minutes\n",
      "Iteration Number 590 Completed - Total Elapsed Time: 214.61 minutes\n",
      "Iteration Number 600 Completed - Total Elapsed Time: 220.77 minutes\n",
      "Iteration Number 610 Completed - Total Elapsed Time: 226.99 minutes\n",
      "Iteration Number 620 Completed - Total Elapsed Time: 232.94 minutes\n",
      "Iteration Number 630 Completed - Total Elapsed Time: 239.14 minutes\n",
      "Iteration Number 640 Completed - Total Elapsed Time: 245.13 minutes\n",
      "Iteration Number 650 Completed - Total Elapsed Time: 251.07 minutes\n",
      "Iteration Number 660 Completed - Total Elapsed Time: 257.05 minutes\n",
      "Iteration Number 670 Completed - Total Elapsed Time: 263.12 minutes\n",
      "Iteration Number 680 Completed - Total Elapsed Time: 269.44 minutes\n",
      "Iteration Number 690 Completed - Total Elapsed Time: 275.54 minutes\n",
      "Iteration Number 700 Completed - Total Elapsed Time: 281.70 minutes\n",
      "Iteration Number 710 Completed - Total Elapsed Time: 287.69 minutes\n",
      "Iteration Number 720 Completed - Total Elapsed Time: 294.00 minutes\n",
      "Iteration Number 730 Completed - Total Elapsed Time: 300.08 minutes\n",
      "Iteration Number 740 Completed - Total Elapsed Time: 306.14 minutes\n",
      "Iteration Number 750 Completed - Total Elapsed Time: 312.35 minutes\n",
      "Iteration Number 760 Completed - Total Elapsed Time: 318.56 minutes\n",
      "Iteration Number 770 Completed - Total Elapsed Time: 324.77 minutes\n",
      "Iteration Number 780 Completed - Total Elapsed Time: 330.67 minutes\n",
      "Iteration Number 790 Completed - Total Elapsed Time: 336.76 minutes\n",
      "Iteration Number 800 Completed - Total Elapsed Time: 342.93 minutes\n",
      "Iteration Number 810 Completed - Total Elapsed Time: 349.03 minutes\n",
      "Iteration Number 820 Completed - Total Elapsed Time: 355.27 minutes\n",
      "Iteration Number 830 Completed - Total Elapsed Time: 361.45 minutes\n",
      "Iteration Number 840 Completed - Total Elapsed Time: 367.67 minutes\n",
      "Iteration Number 850 Completed - Total Elapsed Time: 373.75 minutes\n",
      "Iteration Number 860 Completed - Total Elapsed Time: 379.77 minutes\n",
      "Iteration Number 870 Completed - Total Elapsed Time: 385.90 minutes\n",
      "Iteration Number 880 Completed - Total Elapsed Time: 392.02 minutes\n",
      "Iteration Number 890 Completed - Total Elapsed Time: 397.98 minutes\n",
      "Iteration Number 900 Completed - Total Elapsed Time: 404.24 minutes\n",
      "Iteration Number 910 Completed - Total Elapsed Time: 410.38 minutes\n",
      "Iteration Number 920 Completed - Total Elapsed Time: 416.42 minutes\n",
      "Iteration Number 930 Completed - Total Elapsed Time: 422.47 minutes\n",
      "Iteration Number 940 Completed - Total Elapsed Time: 428.38 minutes\n",
      "Iteration Number 950 Completed - Total Elapsed Time: 434.46 minutes\n",
      "Iteration Number 960 Completed - Total Elapsed Time: 440.20 minutes\n"
     ]
    }
   ],
   "source": [
    "Counter = 239\n",
    "start = time.time()\n",
    "\n",
    "browser = webdriver.Chrome('C:\\\\Users\\\\nusret\\\\Desktop\\\\Scrapping\\\\Drivers\\\\chromedriver')\n",
    "browser.get('https://www.google.be/search?q=start')\n",
    "time.sleep(30)\n",
    "\n",
    "for index, row in URL_Check_Daraframe_Compact[239:].iterrows():\n",
    "\n",
    "    Base_URL = requote_uri('https://www.google.be/search?q=' + row['Search_Phrase'] + '&gws_rd=cr')\n",
    "    \n",
    "    Random_Number = random.randint(1,10)\n",
    "    if ('google' in browser.current_url) & (Random_Number < 5):\n",
    "        input = browser.find_element_by_name('q')\n",
    "        input.clear()\n",
    "        time.sleep(random.randint(1,3))\n",
    "        input.send_keys(row['Search_Phrase'])\n",
    "        time.sleep(random.randint(1,3))\n",
    "        try:\n",
    "            browser.find_element_by_css_selector(\"#tsf > div:nth-child(2) > div.A8SBwf.emcav > div.RNNXgb > button\").click()\n",
    "        except:\n",
    "            browser.get(Base_URL)\n",
    "    elif (Random_Number < 9):\n",
    "        browser.get(Base_URL)\n",
    "        time.sleep(random.randint(1,3))\n",
    "    else:\n",
    "        Base_URL = requote_uri('https://www.bing.com/search?cc=be&q=' + row['Search_Phrase'])\n",
    "        browser.get(Base_URL)\n",
    "        time.sleep(random.randint(1,3))\n",
    "    \n",
    "    soup = BeautifulSoup(browser.page_source)\n",
    "    URL_Check_Daraframe_Compact.loc[index, 'Web_Result_1'] = soup.findAll(\"cite\")[0].text.split('›')[0].rstrip()\n",
    "    URL_Check_Daraframe_Compact.loc[index, 'Web_Result_2'] = soup.findAll(\"cite\")[1].text.split('›')[0].rstrip()\n",
    "    URL_Check_Daraframe_Compact.loc[index, 'Web_Result_3'] = soup.findAll(\"cite\")[2].text.split('›')[0].rstrip()\n",
    "   \n",
    "    if ((Counter % 10) == 0):\n",
    "        end = time.time()\n",
    "        print('Iteration Number ' + str(Counter) + ' Completed - Total Elapsed Time: %.02f minutes' % ((end - start)/60))\n",
    "    Counter += 1\n",
    "    time.sleep(random.randint(30,35))\n",
    "\n",
    "#browser.execute_script(\"window.scrollBy(0,\"+str(random.randint(0,100))+\");\")\n"
   ]
  },
  {
   "cell_type": "code",
   "execution_count": 44,
   "metadata": {},
   "outputs": [],
   "source": [
    "URL_Check_Daraframe_Compact.to_pickle(\"C:\\\\Users\\\\nusret\\\\Desktop\\\\KU Leuven Documents\\\\Thesis\\\\Scraped_URLs.pkl\")"
   ]
  },
  {
   "cell_type": "code",
   "execution_count": null,
   "metadata": {},
   "outputs": [],
   "source": [
    "URL_Check_Daraframe_Compact = pd.read_pickle(\"C:\\\\Users\\\\nusret\\\\Desktop\\\\KU Leuven Documents\\\\Thesis\\\\Scraped_URLs.pkl\")\n",
    "URL_Check_Daraframe_Compact.tail()"
   ]
  },
  {
   "cell_type": "code",
   "execution_count": 64,
   "metadata": {},
   "outputs": [],
   "source": [
    "Final_Merged_DataFrame = URL_Check_Daraframe.merge(URL_Check_Daraframe_Compact.loc[:,['btw', 'Web_Result_1', 'Web_Result_2', 'Web_Result_3']], on ='btw')\n",
    "Final_Merged_DataFrame.to_excel(\"C:\\\\Users\\\\nusret\\\\Desktop\\\\KU Leuven Documents\\\\Thesis\\\\Scraped_URLs.xlsx\", sheet_name='URL') "
   ]
  }
 ],
 "metadata": {
  "kernelspec": {
   "display_name": "Python 3",
   "language": "python",
   "name": "python3"
  },
  "language_info": {
   "codemirror_mode": {
    "name": "ipython",
    "version": 3
   },
   "file_extension": ".py",
   "mimetype": "text/x-python",
   "name": "python",
   "nbconvert_exporter": "python",
   "pygments_lexer": "ipython3",
   "version": "3.8.2"
  }
 },
 "nbformat": 4,
 "nbformat_minor": 4
}
