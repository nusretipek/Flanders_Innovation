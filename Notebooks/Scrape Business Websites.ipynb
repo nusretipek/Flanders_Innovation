{
 "cells": [
  {
   "cell_type": "code",
   "execution_count": 1,
   "metadata": {},
   "outputs": [],
   "source": [
    "#Import Packages\n",
    "\n",
    "from arango import ArangoClient\n",
    "from IPython.display import clear_output\n",
    "import getpass\n",
    "import pandas as pd\n",
    "\n",
    "#Web Scraping Packages\n",
    "import requests\n",
    "from requests.utils import requote_uri\n",
    "from fake_useragent import UserAgent\n",
    "from lxml import html\n",
    "from selenium import webdriver\n",
    "from bs4 import BeautifulSoup\n",
    "from tqdm import tqdm\n",
    "import time"
   ]
  },
  {
   "cell_type": "code",
   "execution_count": 3,
   "metadata": {},
   "outputs": [
    {
     "name": "stdout",
     "output_type": "stream",
     "text": [
      "Successfully connected to the ArangoDB\n"
     ]
    }
   ],
   "source": [
    "# Database Connection\n",
    "\n",
    "username = input('Please enter your username to connect DB: ')\n",
    "password = getpass.getpass('Please enter your password to connect DB: ')\n",
    "try:\n",
    "    client = ArangoClient(hosts='http://localhost:8529')\n",
    "    FBW = client.db('Flemish_Business_Websites', username=username, password=password)\n",
    "    clear_output(wait=True)\n",
    "    print('Successfully connected to the ArangoDB')\n",
    "    del password\n",
    "except ConnectionError:\n",
    "    clear_output(wait=True)\n",
    "    print('Warning: Please check your credentials and try to connect again!')\n",
    "    del password\n",
    "\n",
    "BusinessCollection = FBW.collection('Businesses')"
   ]
  },
  {
   "cell_type": "code",
   "execution_count": 21,
   "metadata": {},
   "outputs": [],
   "source": [
    "#Required Functions\n",
    "\n",
    "def fix_http(URL):\n",
    "    if URL != '':\n",
    "        if('http' in URL) & (URL[-1:] == '/'):\n",
    "            return URL\n",
    "        elif ('http' in URL) & (URL[-1:] != '/'):\n",
    "            return URL + '/'\n",
    "        elif ('http' not in URL) & (URL[-1:] == '/'):\n",
    "            return 'http://' + URL\n",
    "        else:\n",
    "            return 'http://' + URL + '/'\n",
    "\n",
    "ua = UserAgent()\n",
    "def get_html(URL,Timeout):\n",
    "    header = {'User-Agent':str(ua.random)}\n",
    "    try:\n",
    "        page = requests.get(URL, timeout=Timeout, headers=header)\n",
    "    except:\n",
    "        return None\n",
    "    return page.text\n",
    "\n",
    "def get_html_ssl(URL,Timeout):\n",
    "    header = {'User-Agent':str(ua.random)}\n",
    "    try:\n",
    "        page = requests.get(URL, timeout=Timeout, headers=header, verify = False)\n",
    "    except:\n",
    "        return None\n",
    "    return page.text"
   ]
  },
  {
   "cell_type": "code",
   "execution_count": null,
   "metadata": {},
   "outputs": [],
   "source": [
    "BusinessCollection[\"426019644\"]"
   ]
  },
  {
   "cell_type": "code",
   "execution_count": 20,
   "metadata": {},
   "outputs": [
    {
     "name": "stderr",
     "output_type": "stream",
     "text": [
      "3179it [1:00:59,  1.15s/it]\n"
     ]
    }
   ],
   "source": [
    "tqdm(disable=True, total=0)\n",
    "if len(tqdm._instances) > 0:\n",
    "    while len(tqdm._instances) > 0:\n",
    "        tqdm._instances.pop().close()\n",
    "    clear_output(wait=True)\n",
    "\n",
    "cursor = FBW.aql.execute('FOR doc IN Businesses RETURN doc', ttl=5000)\n",
    "for document in tqdm(cursor, total=cursor.count()):\n",
    "    if \"Final_Website\" in document:\n",
    "        document[\"HTML_R1_NOV20\"] = get_html(fix_http(document[\"Final_Website\"]), 10)\n",
    "        BusinessCollection.update(document)"
   ]
  },
  {
   "cell_type": "code",
   "execution_count": null,
   "metadata": {},
   "outputs": [],
   "source": [
    "for document in tqdm(cursor, total=cursor.count()):\n",
    "    if \"Final_Website\" in document:ar\n",
    "        document[\"HTML_R1_NOV20\"] = get_html(fix_http(document[\"Final_Website\"]), 10)\n",
    "        BusinessCollection.update(document)"
   ]
  },
  {
   "cell_type": "code",
   "execution_count": 8,
   "metadata": {},
   "outputs": [
    {
     "name": "stderr",
     "output_type": "stream",
     "text": [
      "3179it [00:03, 911.78it/s]\n"
     ]
    },
    {
     "data": {
      "text/plain": [
       "2920"
      ]
     },
     "execution_count": 8,
     "metadata": {},
     "output_type": "execute_result"
    }
   ],
   "source": [
    "count_nempty = 0\n",
    "cursor2 = FBW.aql.execute('FOR doc IN Businesses RETURN doc', ttl=5000)\n",
    "for document in tqdm(cursor2, total=cursor2.count()):\n",
    "    if \"HTML_R1_NOV20\" in document:\n",
    "        if(document[\"HTML_R1_NOV20\"] is not None):\n",
    "            count_nempty += 1\n",
    "count_nempty"
   ]
  },
  {
   "cell_type": "code",
   "execution_count": 9,
   "metadata": {},
   "outputs": [
    {
     "name": "stdout",
     "output_type": "stream",
     "text": [
      "Total Scraped Websites in NOV 20, 2020: 2920\n"
     ]
    }
   ],
   "source": [
    "print(\"Total Scraped Websites in NOV 20, 2020:\".ljust(30), count_nempty)"
   ]
  },
  {
   "cell_type": "code",
   "execution_count": 17,
   "metadata": {},
   "outputs": [
    {
     "name": "stderr",
     "output_type": "stream",
     "text": [
      "3179it [04:02, 13.09it/s]\n"
     ]
    }
   ],
   "source": [
    "#TRY AGAIN FOR UNSCRAPED - WITHOUT SSL \n",
    "cursor = FBW.aql.execute('FOR doc IN Businesses RETURN doc', ttl=5000)\n",
    "for document in tqdm(cursor, total=cursor.count()):\n",
    "    if ((\"Final_Website\" in document) and (document[\"HTML_R1_NOV20\"] is None)):\n",
    "        document[\"HTML_R2_NOV20\"] = get_html(fix_http(document[\"Final_Website\"]), 10)\n",
    "        BusinessCollection.update(document)\n",
    "        \n",
    "### 8 New Found ###"
   ]
  },
  {
   "cell_type": "code",
   "execution_count": null,
   "metadata": {},
   "outputs": [],
   "source": [
    "#TRY AGAIN FOR UNSCRAPED - WITH SSL VERIFY OFF \n",
    "cursor = FBW.aql.execute('FOR doc IN Businesses RETURN doc', ttl=5000)\n",
    "for document in tqdm(cursor, total=cursor.count()):\n",
    "    if ((\"Final_Website\" in document) and (document[\"HTML_R1_NOV20\"] is None)):\n",
    "        document[\"HTML_R2_NOV20\"] = get_html(fix_http(document[\"Final_Website\"]), 10)\n",
    "        BusinessCollection.update(document)\n",
    "        \n",
    "### 8 New Found ###"
   ]
  },
  {
   "cell_type": "code",
   "execution_count": null,
   "metadata": {},
   "outputs": [],
   "source": [
    "cursor = FBW.aql.execute('FOR doc IN Businesses RETURN doc', ttl=5000)\n",
    "for document in tqdm(cursor, total=cursor.count()):\n",
    "    if ((\"Final_Website\" in document) and (document[\"HTML_R1_NOV20\"] is None) and (document[\"HTML_R2_NOV20\"] is None)):\n",
    "        document[\"HTML_R2_NOV20\"] = get_html_ssl(fix_http(document[\"Final_Website\"]), 10)\n",
    "        if (document[\"HTML_R2_NOV20\"] is not None):\n",
    "            document[\"SSL_Fail\"] = True\n",
    "        BusinessCollection.update(document)\n",
    "        \n",
    "### 35 New Found ###"
   ]
  },
  {
   "cell_type": "code",
   "execution_count": 27,
   "metadata": {},
   "outputs": [
    {
     "name": "stderr",
     "output_type": "stream",
     "text": [
      "3179it [00:03, 885.34it/s]"
     ]
    },
    {
     "name": "stdout",
     "output_type": "stream",
     "text": [
      "Total unfound websites:  216\n"
     ]
    },
    {
     "name": "stderr",
     "output_type": "stream",
     "text": [
      "\n"
     ]
    }
   ],
   "source": [
    "count_n = 0 \n",
    "cursor = FBW.aql.execute('FOR doc IN Businesses RETURN doc', ttl=5000)\n",
    "for document in tqdm(cursor, total=cursor.count()):\n",
    "    if ((\"HTML_R1_NOV20\" in document) or (\"HTML_R2_NOV20\" in document)):\n",
    "        if((document[\"HTML_R1_NOV20\"] is not None) or ((document[\"HTML_R2_NOV20\"] is not None))):\n",
    "            count_n += 1 \n",
    "print(\"Total unfound websites: \", 3179-count_n)"
   ]
  }
 ],
 "metadata": {
  "kernelspec": {
   "display_name": "Python 3",
   "language": "python",
   "name": "python3"
  },
  "language_info": {
   "codemirror_mode": {
    "name": "ipython",
    "version": 3
   },
   "file_extension": ".py",
   "mimetype": "text/x-python",
   "name": "python",
   "nbconvert_exporter": "python",
   "pygments_lexer": "ipython3",
   "version": "3.8.2"
  }
 },
 "nbformat": 4,
 "nbformat_minor": 4
}
