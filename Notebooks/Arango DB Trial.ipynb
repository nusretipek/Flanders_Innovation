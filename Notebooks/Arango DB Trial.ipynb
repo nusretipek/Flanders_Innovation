{
 "cells": [
  {
   "cell_type": "code",
   "execution_count": null,
   "metadata": {},
   "outputs": [],
   "source": [
    "from pyArango.connection import *\n",
    "from IPython.display import clear_output\n",
    "import getpass\n",
    "import pandas as pd"
   ]
  },
  {
   "cell_type": "code",
   "execution_count": null,
   "metadata": {},
   "outputs": [],
   "source": [
    "username = input('Please enter your username to connect DB: ')\n",
    "password = getpass.getpass('Please enter your password to connect DB: ')\n",
    "try:\n",
    "    conn = Connection(username=username, password=password)\n",
    "    clear_output(wait=True)\n",
    "    print('Successfully connected to the ArangoDB')\n",
    "    del password\n",
    "except ConnectionError:\n",
    "    clear_output(wait=True)\n",
    "    print('Warning: Please check your credentials and try to connect again!')\n",
    "    del password"
   ]
  },
  {
   "cell_type": "code",
   "execution_count": 57,
   "metadata": {},
   "outputs": [],
   "source": [
    "db = conn[\"Flemish_Business_Websites\"]\n",
    "#BusinessCollection = db.createCollection(name=\"Businesses\")\n",
    "BusinessCollection = db[\"Businesses\"]"
   ]
  },
  {
   "cell_type": "code",
   "execution_count": 8,
   "metadata": {},
   "outputs": [],
   "source": [
    "FILE = 'C:\\\\Users\\\\nusret\\\\Desktop\\\\Thesis\\\\data\\\\inno5_address_toStatVla_cis19.xlsx'\n",
    "CIS_Survey_Dataframe = pd.read_excel(FILE, sheet_name='inno5_address_toStatVla_cis19')"
   ]
  },
  {
   "cell_type": "code",
   "execution_count": null,
   "metadata": {},
   "outputs": [],
   "source": [
    "CIS_Survey_Dataframe"
   ]
  },
  {
   "cell_type": "code",
   "execution_count": 66,
   "metadata": {},
   "outputs": [],
   "source": [
    "for index, row in CIS_Survey_Dataframe.iterrows():\n",
    "    doc = BusinessCollection.createDocument()\n",
    "    doc['Name'] = row['cur_firm']\n",
    "    if not (pd.isnull(row[\"gpnameStata19\"])):    \n",
    "        doc['Group'] = row[\"gpnameStata19\"]\n",
    "    if not (pd.isnull(row[\"inno5\"])):    \n",
    "        doc['Innovation'] = int(row[\"inno5\"])\n",
    "    if not (pd.isnull(row[\"cur_street1\"])):    \n",
    "        doc['Street_1'] = row[\"cur_street1\"]        \n",
    "    if not (pd.isnull(row[\"cur_street2\"])):    \n",
    "        doc['Street_2'] = row[\"cur_street2\"]\n",
    "    if not (pd.isnull(row[\"finalzip\"])):    \n",
    "        doc['Main_Zip'] = row[\"finalzip\"]  \n",
    "    if not (pd.isnull(row[\"zipActivPost19\"])):    \n",
    "        doc['Activity_Zip'] = row[\"zipActivPost19\"]   \n",
    "    if not (pd.isnull(row[\"cur_email\"])):    \n",
    "        doc['Registry_Email'] = row[\"cur_email\"]      \n",
    "    if not (pd.isnull(row[\"cur_web\"])):    \n",
    "        doc['Registry_Website'] = row[\"cur_web\"]          \n",
    "    if not (pd.isnull(row[\"email\"])):    \n",
    "        doc['User_Provided_Email'] = row[\"email\"]      \n",
    "    if not (pd.isnull(row[\"web\"])):    \n",
    "        doc['User_Provided_Website'] = row[\"web\"]        \n",
    "    if not (pd.isnull(row[\"street1\"])):    \n",
    "        doc['User_Provided_Street_1'] = row[\"street1\"]        \n",
    "    if not (pd.isnull(row[\"street2\"])):    \n",
    "        doc['User_Provided_Street_2'] = row[\"street2\"]            \n",
    "    doc._key = str(row['btw'])\n",
    "    doc.save()"
   ]
  },
  {
   "cell_type": "code",
   "execution_count": 74,
   "metadata": {},
   "outputs": [
    {
     "name": "stdout",
     "output_type": "stream",
     "text": [
      "vpk                            None\n",
      "tupperware                     1\n",
      "deme                           1\n",
      "dossche                        1\n",
      "lotus                          1\n",
      "elep                           1\n",
      "plakabeton                     1\n",
      "xeikon                         1\n",
      "aveve                          1\n",
      "ico                            1\n",
      "fagron                         1\n",
      "creatuft                       1\n",
      "Niko                           1\n",
      "willemen                       None\n",
      "milcobel                       1\n",
      "depuydt                        1\n",
      "bekaertdeslee                  1\n",
      "vpk                            None\n",
      "cras                           1\n",
      "vpk                            None\n",
      "unilin                         1\n",
      "cgc                            1\n",
      "bekaertdeslee                  1\n",
      "remic                          1\n",
      "orac                           1\n",
      "vincotte                       1\n",
      "vandezande                     1\n",
      "transa                         0\n",
      "agidens                        1\n",
      "daikin                         1\n",
      "inex                           1\n",
      "remic                          1\n",
      "remic                          1\n",
      "buyck                          1\n",
      "grovi                          1\n",
      "fagron                         1\n",
      "houben                         1\n",
      "vincotte                       1\n",
      "creatuft                       1\n",
      "detaellenaere                  1\n",
      "ickx                           1\n",
      "lotus                          1\n",
      "roularta                       1\n",
      "vpk                            None\n",
      "proviron                       None\n",
      "sweet products                 1\n",
      "de bree                        0\n",
      "proviron                       1\n",
      "bmt                            None\n",
      "plakabeton                     1\n",
      "deme                           None\n",
      "vandezande                     1\n",
      "dovy                           1\n",
      "europower                      1\n",
      "roularta                       1\n",
      "elep                           1\n",
      "amano                          1\n",
      "deme                           1\n",
      "deme                           1\n",
      "tupperware                     None\n",
      "ico                            None\n",
      "van marcke                     1\n",
      "buyck                          1\n",
      "deme                           1\n",
      "datwyler                       1\n",
      "vincotte                       1\n",
      "sweet products                 1\n",
      "deme                           1\n",
      "plakabeton                     1\n",
      "DE NEEF CHEMICAL PROCESSING    1\n",
      "van marcke                     1\n",
      "blcc                           1\n",
      "vasco data security            1\n",
      "cognosis                       1\n",
      "vanheede                       1\n",
      "vpk                            None\n",
      "deme                           1\n",
      "vanden broele                  1\n",
      "agro invest                    1\n",
      "proviron                       1\n",
      "xeikon                         1\n",
      "inventive designers            None\n",
      "vpk                            None\n",
      "detaellenaere                  1\n",
      "dovy                           1\n",
      "ico                            1\n",
      "europower                      1\n",
      "proviron                       1\n",
      "grovi                          1\n",
      "vasco data security            1\n",
      "transa                         0\n",
      "ickx                           1\n",
      "panigo                         1\n",
      "unilin                         1\n",
      "4c                             1\n",
      "vincotte                       1\n",
      "daikin                         None\n",
      "automet                        1\n",
      "trimble                        1\n",
      "dossche                        None\n",
      "vanden broele                  1\n",
      "inventive designers            1\n",
      "fit                            1\n",
      "datwyler                       None\n",
      "remic                          1\n",
      "agidens                        1\n",
      "de bree                        0\n",
      "willemen                       1\n",
      "orac                           1\n",
      "cronos                         1\n",
      "agidens                        1\n",
      "milcobel                       1\n",
      "k&e                            1\n",
      "de bree                        0\n",
      "dott                           1\n",
      "de bree                        0\n",
      "transa                         0\n",
      "trimble                        1\n",
      "proviron                       None\n",
      "cognosis                       1\n",
      "meat & more                    1\n"
     ]
    }
   ],
   "source": [
    "for b in BusinessCollection.fetchAll():\n",
    "    if b['Group'] is not None:\n",
    "        print(b['Group'].ljust(30), b['Innovation'])"
   ]
  },
  {
   "cell_type": "code",
   "execution_count": 75,
   "metadata": {},
   "outputs": [
    {
     "data": {
      "text/plain": [
       "3179"
      ]
     },
     "execution_count": 75,
     "metadata": {},
     "output_type": "execute_result"
    }
   ],
   "source": [
    "db.AQLQuery(\"RETURN COUNT(FOR b IN Businesses RETURN 1)\", rawResults=True)[0]"
   ]
  },
  {
   "cell_type": "code",
   "execution_count": null,
   "metadata": {},
   "outputs": [],
   "source": [
    "FILE = 'Final_URLs.csv'\n",
    "Found_URLS = pd.read_csv(FILE, sep=';')\n",
    "Found_URLS.head()"
   ]
  },
  {
   "cell_type": "code",
   "execution_count": 82,
   "metadata": {},
   "outputs": [],
   "source": [
    "for index, row in Found_URLS.iterrows():\n",
    "    doc = BusinessCollection[str(row[\"btw\"])]\n",
    "    doc[\"Final_Website\"] = row[\"New Best Guess\"]\n",
    "    doc.save()"
   ]
  },
  {
   "cell_type": "code",
   "execution_count": null,
   "metadata": {},
   "outputs": [],
   "source": [
    "BusinessCollection['200068636']"
   ]
  },
  {
   "cell_type": "code",
   "execution_count": 99,
   "metadata": {},
   "outputs": [
    {
     "name": "stdout",
     "output_type": "stream",
     "text": [
      "Total Websites Found:     3005\n",
      "Total businesses in CIS:  3179\n",
      "Website Coverage %:       94.53 %\n"
     ]
    }
   ],
   "source": [
    "print(\"Total Websites Found:\".ljust(25), db.AQLQuery(\"RETURN COUNT(FOR b IN Businesses FILTER b.Final_Website != NULL RETURN 1)\", rawResults=True)[0])\n",
    "print(\"Total businesses in CIS:\".ljust(25), db.AQLQuery(\"RETURN COUNT(FOR b IN Businesses RETURN 1)\", rawResults=True)[0])\n",
    "print(\"Website Coverage %:\".ljust(25), round(((db.AQLQuery(\"RETURN COUNT(FOR b IN Businesses FILTER b.Final_Website != NULL RETURN 1)\", rawResults=True)[0])/(db.AQLQuery(\"RETURN COUNT(FOR b IN Businesses RETURN 1)\", rawResults=True)[0]))*100, 2), \"%\")"
   ]
  }
 ],
 "metadata": {
  "kernelspec": {
   "display_name": "Python 3",
   "language": "python",
   "name": "python3"
  },
  "language_info": {
   "codemirror_mode": {
    "name": "ipython",
    "version": 3
   },
   "file_extension": ".py",
   "mimetype": "text/x-python",
   "name": "python",
   "nbconvert_exporter": "python",
   "pygments_lexer": "ipython3",
   "version": "3.8.2"
  }
 },
 "nbformat": 4,
 "nbformat_minor": 4
}
