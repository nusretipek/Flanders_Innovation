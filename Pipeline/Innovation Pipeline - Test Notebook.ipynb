{
 "cells": [
  {
   "cell_type": "code",
   "execution_count": 8,
   "metadata": {},
   "outputs": [],
   "source": [
    "import innovation_pipeline"
   ]
  },
  {
   "cell_type": "markdown",
   "metadata": {},
   "source": [
    "**Scrape the URLs**\n",
    "\n",
    "Function => scrape_urls(CSV_file, URL_column, clean=True, output_file=None)\n",
    "\n",
    "1. The input is a CSV file with the column name of the URLs. The default value for clean is true, meaning the function will automatically delete the missing URLs (false may raise errors).\n",
    "2. The output is a CSV file with the HTML code attached next to the URLs named as 'scraped_html_file.csv' by default. Upon successful completion, a success message is outputted.\n",
    "3. The name of the output file can be changed with the output_file variable (defaulted as None), if kept default and 'scraped_html_file.csv' already exists; then the program overwrites.\n",
    "\n",
    "The grace period for a website to respond is set to 10 seconds, given this setting, it takes approximately 30 minutes to scrape 1,000 URLs.\n"
   ]
  },
  {
   "cell_type": "code",
   "execution_count": 5,
   "metadata": {},
   "outputs": [
    {
     "name": "stderr",
     "output_type": "stream",
     "text": [
      "100%|████████████████████████████████████| 2756/2756 [1:05:56<00:00,  1.44s/it]\n"
     ]
    },
    {
     "data": {
      "text/plain": [
       "'Successfully Completed!'"
      ]
     },
     "execution_count": 5,
     "metadata": {},
     "output_type": "execute_result"
    }
   ],
   "source": [
    "innovation_pipeline.scrape_urls(CSV_file = 'file.csv', URL_column = 'URL', clean = True, output_file=None)"
   ]
  },
  {
   "cell_type": "markdown",
   "metadata": {},
   "source": [
    "**Detect language of the scraped websites**\n",
    "\n",
    "Function => scrape_urls(CSV_file = 'scraped_html_file.csv', HTML_column = 'Raw_HTML')\n",
    "\n",
    "1. The input is a CSV file defaulted as 'scraped_html_file.csv' and the HTML text column. Unless you change the header of the column manually, the scrapper saves it as 'Raw_HTML'.\n",
    "2. The output is a CSV file that is overwritten on the input CSV. The output CSV file should contain an additional column for language abbreviations.\n",
    "\n",
    "The library to detect languages uses Google API and to avoid connection problems, there are breaks implemented. It takes 20 minutes to detect 1,000 website languages."
   ]
  },
  {
   "cell_type": "code",
   "execution_count": 6,
   "metadata": {},
   "outputs": [
    {
     "name": "stderr",
     "output_type": "stream",
     "text": [
      "100%|██████████████████████████████████████| 2756/2756 [17:49<00:00,  2.58it/s]\n"
     ]
    },
    {
     "data": {
      "text/plain": [
       "'Successfully Completed!'"
      ]
     },
     "execution_count": 6,
     "metadata": {},
     "output_type": "execute_result"
    }
   ],
   "source": [
    "innovation_pipeline.detect_language(CSV_file = 'scraped_html_file.csv', HTML_column = 'Raw_HTML')"
   ]
  },
  {
   "cell_type": "markdown",
   "metadata": {},
   "source": [
    "**Language switcher**\n",
    "\n",
    "Function => switch_language(CSV_file = 'scraped_html_file.csv', language_column = 'Languages', URL_column = 'URL')\n",
    "\n",
    "1. The input is a CSV file with language and URL columns. The default CSV file is 'scraped_html_file.csv' and the language column is 'Languages' as created with the above function. The Url column may be different.\n",
    "2. The output is a CSV file that is overwritten on the input CSV. The output CSV file should update the URL column with the found Dutch/English URLs.\n",
    "\n",
    "Since the language switcher visits numerous websites, it takes considerable time to make switches."
   ]
  },
  {
   "cell_type": "code",
   "execution_count": 7,
   "metadata": {},
   "outputs": [
    {
     "name": "stderr",
     "output_type": "stream",
     "text": [
      "100%|██████████████████████████████████████| 2756/2756 [03:31<00:00, 13.00it/s]\n"
     ]
    },
    {
     "data": {
      "text/plain": [
       "'Successfully Completed!'"
      ]
     },
     "execution_count": 7,
     "metadata": {},
     "output_type": "execute_result"
    }
   ],
   "source": [
    "innovation_pipeline.switch_language(CSV_file = 'scraped_html_file.csv', language_column = 'Languages', URL_column = 'URL')"
   ]
  },
  {
   "cell_type": "markdown",
   "metadata": {},
   "source": [
    "**Filter non-Dutch/English webistes & Print language distribution**\n",
    "\n",
    "Function => filter_get_language_distribution(CSV_file = 'scraped_html_file.csv', Language_column = 'Languages')\n",
    "\n",
    "1. The input is a CSV file with language and Language columns. The default CSV file is 'scraped_html_file.csv' and the language column is 'Languages' as created with the above function.\n",
    "2. The output is a CSV file that is overwritten on the input CSV. The output CSV file should contain only Dutch and English websites."
   ]
  },
  {
   "cell_type": "code",
   "execution_count": 2,
   "metadata": {},
   "outputs": [
    {
     "name": "stdout",
     "output_type": "stream",
     "text": [
      "nl         1478\n",
      "en         1021\n",
      "unknown     216\n",
      "fr           15\n",
      "da            9\n",
      "de            5\n",
      "af            3\n",
      "tl            2\n",
      "no            2\n",
      "ca            2\n",
      "es            1\n",
      "cy            1\n",
      "pl            1\n",
      "Name: Languages, dtype: int64\n"
     ]
    },
    {
     "data": {
      "text/plain": [
       "'Successfully Completed!'"
      ]
     },
     "execution_count": 2,
     "metadata": {},
     "output_type": "execute_result"
    }
   ],
   "source": [
    "innovation_pipeline.filter_get_language_distribution(CSV_file = 'scraped_html_file.csv', Language_column = 'Languages')"
   ]
  },
  {
   "cell_type": "markdown",
   "metadata": {},
   "source": [
    "**HTML to clean text**\n",
    "\n",
    "Function => HTML_to_text(CSV_file = 'scraped_html_file.csv', HTML_column = 'Raw_HTML'):\n",
    "\n",
    "1. The input is a CSV file with HTML_column. The default CSV file is 'scraped_html_file.csv' and HTML column is 'Raw_HTML' as created with above function.\n",
    "2. The output is a CSV file that is overwritten on the input CSV. The output CSV file should include a new column with cleaned text, ready to transform."
   ]
  },
  {
   "cell_type": "code",
   "execution_count": 3,
   "metadata": {},
   "outputs": [
    {
     "name": "stderr",
     "output_type": "stream",
     "text": [
      "100%|██████████████████████████████████████| 2499/2499 [02:26<00:00, 17.08it/s]\n"
     ]
    },
    {
     "data": {
      "text/plain": [
       "'Successfully Completed!'"
      ]
     },
     "execution_count": 3,
     "metadata": {},
     "output_type": "execute_result"
    }
   ],
   "source": [
    "innovation_pipeline.HTML_to_text(CSV_file = 'scraped_html_file.csv', HTML_column = 'Raw_HTML')"
   ]
  },
  {
   "cell_type": "markdown",
   "metadata": {},
   "source": [
    "**Load CSV file to dataFrame**\n",
    "\n",
    "Function => csv_to_dataframe(CSV_file = 'scraped_html_file.csv', key_column = 'Ondernemingsnummer', text_column='Clean_Text', label_column=None, language = False)\n",
    "\n",
    "1. The input is a CSV file defaulted as 'scraped_html_file.csv'. Additionally, the unique key column, text column, label column and indication that language as a model variable can be specified. The key column might not exist in each data file, in order to solve it, one might create a column with step function in pandas before loading with the pipeline. The label column is None as default, if a model will be trained, please specify the column name of the <true-labels>. On the other hand, if the task is to use the pre-trained model to make predictions, leave it as None. The text_column is assigned with the above function so that it is usually not necessary to adjust.\n",
    "\n",
    "2. The output is a Pandas data frame loaded to the runtime environment.\n",
    "\n",
    "*Depending on the size of the file, the system may give memory-errors. The pipeline is not designed for garbage collection and memory-optimized. From time to time, manually free memory or reset the run-time.*"
   ]
  },
  {
   "cell_type": "code",
   "execution_count": 3,
   "metadata": {},
   "outputs": [],
   "source": [
    "dataset = innovation_pipeline.csv_to_dataframe(CSV_file = 'scraped_html_file.csv', key_column = 'Ondernemingsnummer', \n",
    "                                                   text_column='Clean_Text', label_column='thema_Artificiële Intelligentie', language = False)"
   ]
  },
  {
   "cell_type": "markdown",
   "metadata": {},
   "source": [
    "**Train Doc2Vec Embeddings**\n",
    "\n",
    "Function => train_doc_embeddings(dataset, size, iteration, window, min_count)\n",
    "\n",
    "1. The inputs have not defaulted for this function. The Gensim library is used to train Doc2Vec embeddings. The dataset is the one loaded in the upper function while size, iteration, window and minimum word count are common parameters to fine-tune the Doc2Vec embeddings model. \n",
    "\n",
    "2. The output is a Pandas data frame that is adjusted and added new columns depending on the size parameter. That can be used as additional information next to TF-IDF.\n",
    "\n",
    "> Important -> Use train_doc_embeddings function if and only if you will train models, if the Label column is specified as None, the function will fail. The make prediction function automatically trains Doc2Vec if specified. \n",
    "\n",
    "*The Doc2Vec is a shallow deep-learning algorithm that starts with random initial points, the end solution might depend on the initial values and might be a little unstable with a small corpus. The Doc2Vec approach will not utilize a pre-trained embeddings model so that the website text is used to train a model.*"
   ]
  },
  {
   "cell_type": "code",
   "execution_count": 5,
   "metadata": {},
   "outputs": [],
   "source": [
    "de_dataset = innovation_pipeline.train_doc_embeddings(dataset=dataset, size=50, iteration=5, window=10, min_count=3)"
   ]
  },
  {
   "cell_type": "markdown",
   "metadata": {},
   "source": [
    "**Transform the text into TF-IDF**\n",
    "\n",
    "Function => TFIDF_prebuild_sets_d2v(dataset, seed, fraction, feature_count, oversample = False, size = 0, label_oversample = 1, embeddings = False,\n",
    "                                        language = False, d2v = False, verbose = True)\n",
    "\n",
    "1. The input is the dataset or dataset with Doc2Vec embeddings trained already. The inputs are self-explanatory mostly where the seed is the random seed (int), the fraction is the train and test split, feature count is the number of most frequent TF-IDF words, oversample to fix class imbalances. Language is whether to use the language column as a predictor (if already imported!). Similarly, d2v is for specifying to use d2v or not. Lastly, the verbose prints the selected TF-IDF words if true (default option).   \n",
    "\n",
    "2. The output is 2 Pandas data frames and 2 Pandas series. In order to train predictors, train labels, test predictors and test labels."
   ]
  },
  {
   "cell_type": "code",
   "execution_count": 13,
   "metadata": {},
   "outputs": [],
   "source": [
    "Train_X, train_y, Test_X, test_y = innovation_pipeline.TFIDF_prebuild_sets_d2v(dataset=de_dataset, seed=22494, fraction=0.80, feature_count=300, oversample=True, \n",
    "                                                                                   size=2000, label_oversample=1, embeddings = False, \n",
    "                                                                                   language = False, d2v = True, verbose = False)"
   ]
  },
  {
   "cell_type": "markdown",
   "metadata": {},
   "source": [
    "**Train a supervised model**\n",
    "\n",
    "Function => train_model(clf, Train_X, train_y, Test_X, test_y, save_model = False, model_name=None)\n",
    "\n",
    "1. The input is a classifier (needs to be properly imported), the pandas data frames and series created above and model saving options. The default model save is false and the model name is None. If the model name is not specified, the model is saved as 'saved_model.pkl' in Pickle format. If already exists, then it is overwritten.   \n",
    "\n",
    "2. There is no output return but the function inherently saves the model is asked and prints out the model results in a uniform manner."
   ]
  },
  {
   "cell_type": "code",
   "execution_count": 20,
   "metadata": {},
   "outputs": [
    {
     "name": "stdout",
     "output_type": "stream",
     "text": [
      "Training Accuracy:   0.9075451647183846\n",
      "Test Accuracy:       0.8893617021276595\n",
      "Classification Report of the Test Set: \n",
      " \n",
      "              precision    recall  f1-score   support\n",
      "\n",
      "           0       0.89      0.99      0.94       418\n",
      "           1       0.50      0.06      0.10        52\n",
      "\n",
      "    accuracy                           0.89       470\n",
      "   macro avg       0.70      0.53      0.52       470\n",
      "weighted avg       0.85      0.89      0.85       470\n",
      "\n"
     ]
    },
    {
     "data": {
      "image/png": "[encoded data removed]",
      "text/plain": [
       "<Figure size 1296x432 with 2 Axes>"
      ]
     },
     "metadata": {
      "needs_background": "light"
     },
     "output_type": "display_data"
    }
   ],
   "source": [
    "from sklearn.linear_model import LogisticRegression \n",
    "innovation_pipeline.train_model(LogisticRegression(penalty='l1', solver='saga', max_iter = 10000), Train_X=Train_X, train_y=train_y, Test_X=Test_X, test_y=test_y, \n",
    "                                    save_model = True, model_name=None)"
   ]
  },
  {
   "cell_type": "markdown",
   "metadata": {},
   "source": [
    "**Get Model Coefficients (Only Logistic Regression)**\n",
    "\n",
    "Function => get_model_coefficients(saved_model, Train_X, size = 20, mask = True)\n",
    "\n",
    "1. The input is a saved model with a Pandas data frame in order to extract the coefficient names. The size has defaulted as 20 for each positive and negative category. Lastly, the mask parameter is used to filter out Doc2Vec embeddings scores and focus on TF-IDF words which can be interpreted semantically.  \n",
    "\n",
    "2. There output is a printed Pandas data frame with ordered most positive and negative words."
   ]
  },
  {
   "cell_type": "code",
   "execution_count": 22,
   "metadata": {},
   "outputs": [
    {
     "data": {
      "text/html": [
       "<div>\n",
       "<style scoped>\n",
       "    .dataframe tbody tr th:only-of-type {\n",
       "        vertical-align: middle;\n",
       "    }\n",
       "\n",
       "    .dataframe tbody tr th {\n",
       "        vertical-align: top;\n",
       "    }\n",
       "\n",
       "    .dataframe thead th {\n",
       "        text-align: right;\n",
       "    }\n",
       "</style>\n",
       "<table border=\"1\" class=\"dataframe\">\n",
       "  <thead>\n",
       "    <tr style=\"text-align: right;\">\n",
       "      <th></th>\n",
       "      <th>Negative Words</th>\n",
       "      <th>Coefficient</th>\n",
       "      <th>Positive Words</th>\n",
       "      <th>Coefficient</th>\n",
       "    </tr>\n",
       "  </thead>\n",
       "  <tbody>\n",
       "    <tr>\n",
       "      <th>0</th>\n",
       "      <td>home</td>\n",
       "      <td>-2.287778</td>\n",
       "      <td>intelligence</td>\n",
       "      <td>4.300792</td>\n",
       "    </tr>\n",
       "    <tr>\n",
       "      <th>1</th>\n",
       "      <td>wij</td>\n",
       "      <td>-1.414420</td>\n",
       "      <td>data</td>\n",
       "      <td>3.104813</td>\n",
       "    </tr>\n",
       "    <tr>\n",
       "      <th>2</th>\n",
       "      <td>products</td>\n",
       "      <td>-1.148782</td>\n",
       "      <td>international</td>\n",
       "      <td>2.239828</td>\n",
       "    </tr>\n",
       "    <tr>\n",
       "      <th>3</th>\n",
       "      <td>producten</td>\n",
       "      <td>-1.139116</td>\n",
       "      <td>platform</td>\n",
       "      <td>2.147620</td>\n",
       "    </tr>\n",
       "    <tr>\n",
       "      <th>4</th>\n",
       "      <td>food</td>\n",
       "      <td>-0.949351</td>\n",
       "      <td>mensen</td>\n",
       "      <td>1.903732</td>\n",
       "    </tr>\n",
       "    <tr>\n",
       "      <th>5</th>\n",
       "      <td>contact</td>\n",
       "      <td>-0.896787</td>\n",
       "      <td>jobs</td>\n",
       "      <td>1.860589</td>\n",
       "    </tr>\n",
       "    <tr>\n",
       "      <th>6</th>\n",
       "      <td>read</td>\n",
       "      <td>-0.475133</td>\n",
       "      <td>demo</td>\n",
       "      <td>1.716417</td>\n",
       "    </tr>\n",
       "    <tr>\n",
       "      <th>7</th>\n",
       "      <td>via</td>\n",
       "      <td>-0.271265</td>\n",
       "      <td>automation</td>\n",
       "      <td>1.544254</td>\n",
       "    </tr>\n",
       "    <tr>\n",
       "      <th>8</th>\n",
       "      <td>advies</td>\n",
       "      <td>-0.251013</td>\n",
       "      <td>improve</td>\n",
       "      <td>1.258857</td>\n",
       "    </tr>\n",
       "    <tr>\n",
       "      <th>9</th>\n",
       "      <td>facebook</td>\n",
       "      <td>-0.222707</td>\n",
       "      <td>klanten</td>\n",
       "      <td>1.149777</td>\n",
       "    </tr>\n",
       "    <tr>\n",
       "      <th>10</th>\n",
       "      <td>control</td>\n",
       "      <td>-0.218420</td>\n",
       "      <td>smart</td>\n",
       "      <td>1.120195</td>\n",
       "    </tr>\n",
       "    <tr>\n",
       "      <th>11</th>\n",
       "      <td>personal</td>\n",
       "      <td>-0.146526</td>\n",
       "      <td>insights</td>\n",
       "      <td>1.055043</td>\n",
       "    </tr>\n",
       "    <tr>\n",
       "      <th>12</th>\n",
       "      <td>transport</td>\n",
       "      <td>-0.120895</td>\n",
       "      <td>jaar</td>\n",
       "      <td>0.787530</td>\n",
       "    </tr>\n",
       "    <tr>\n",
       "      <th>13</th>\n",
       "      <td>menu</td>\n",
       "      <td>-0.109993</td>\n",
       "      <td>get</td>\n",
       "      <td>0.505759</td>\n",
       "    </tr>\n",
       "    <tr>\n",
       "      <th>14</th>\n",
       "      <td>contacteer</td>\n",
       "      <td>-0.014990</td>\n",
       "      <td>content</td>\n",
       "      <td>0.406250</td>\n",
       "    </tr>\n",
       "  </tbody>\n",
       "</table>\n",
       "</div>"
      ],
      "text/plain": [
       "   Negative Words  Coefficient Positive Words  Coefficient\n",
       "0            home    -2.287778   intelligence     4.300792\n",
       "1             wij    -1.414420           data     3.104813\n",
       "2        products    -1.148782  international     2.239828\n",
       "3       producten    -1.139116       platform     2.147620\n",
       "4            food    -0.949351         mensen     1.903732\n",
       "5         contact    -0.896787           jobs     1.860589\n",
       "6            read    -0.475133           demo     1.716417\n",
       "7             via    -0.271265     automation     1.544254\n",
       "8          advies    -0.251013        improve     1.258857\n",
       "9        facebook    -0.222707        klanten     1.149777\n",
       "10        control    -0.218420          smart     1.120195\n",
       "11       personal    -0.146526       insights     1.055043\n",
       "12      transport    -0.120895           jaar     0.787530\n",
       "13           menu    -0.109993            get     0.505759\n",
       "14     contacteer    -0.014990        content     0.406250"
      ]
     },
     "execution_count": 22,
     "metadata": {},
     "output_type": "execute_result"
    }
   ],
   "source": [
    "innovation_pipeline.get_model_coefficients(saved_model = 'saved_model.pkl', Train_X = Train_X, size = 15)"
   ]
  },
  {
   "cell_type": "markdown",
   "metadata": {},
   "source": [
    "**Make predictions with an existing model**\n",
    "\n",
    "Function => make_prediction(saved_model, dataset_name = None, language = True, verbose = False)\n",
    "\n",
    "1. The input is a saved model. The example below uses a pre-trained model with original CIS 2019 (logistic regression with l1 regularization). The dataset name parameter requires a CSV file name to read analogous with csv_to_dataframe function. The language boolean asks if the saved model uses language as a parameter. Lastly, verbose prints the TF-IDF words if switched to True.\n",
    "\n",
    "2. The output is a Pandas data frame with three columns; the unique key, prediction probability and predicted label."
   ]
  },
  {
   "cell_type": "code",
   "execution_count": null,
   "metadata": {},
   "outputs": [],
   "source": [
    "pred = innovation_pipeline.make_prediction(saved_model='LR-D2V-IR01.pkl', dataset_name='scraped_html_file.csv', language=True, verbose=False)"
   ]
  },
  {
   "cell_type": "markdown",
   "metadata": {},
   "source": [
    "**Redundant Code**\n",
    "\n",
    "> To save VLAIO specific results"
   ]
  },
  {
   "cell_type": "code",
   "execution_count": 2,
   "metadata": {},
   "outputs": [
    {
     "data": {
      "text/plain": [
       "Index(['Ondernemingsnummer', 'URL', 'Bedrijf', 'NACEBEL',\n",
       "       'thema_Artificiële Intelligentie', 'thema_Bio-economie', 'thema_Bouw',\n",
       "       'thema_Circulaire Economie', 'thema_Cybersecurity', 'thema_Diensten',\n",
       "       'thema_Energie & Milieu', 'thema_Health & Care', 'thema_High potential',\n",
       "       'thema_ICT', 'thema_ICT & Diensten', 'thema_Logistiek & Mobiliteit',\n",
       "       'thema_Machinebouw & electronica', 'thema_Materialen & Chemie',\n",
       "       'thema_Voeding(sketen)'],\n",
       "      dtype='object')"
      ]
     },
     "execution_count": 2,
     "metadata": {},
     "output_type": "execute_result"
    }
   ],
   "source": [
    "#To get labels\n",
    "\n",
    "import pandas as pd\n",
    "c = pd.read_csv(\"file.csv\")\n",
    "c.columns"
   ]
  },
  {
   "cell_type": "code",
   "execution_count": 15,
   "metadata": {},
   "outputs": [
    {
     "data": {
      "text/plain": [
       "46    283\n",
       "62    212\n",
       "71    136\n",
       "70    106\n",
       "10     86\n",
       "     ... \n",
       "51      1\n",
       "53      1\n",
       "37      1\n",
       "91      1\n",
       "06      1\n",
       "Name: NACEBEL_Initials, Length: 78, dtype: int64"
      ]
     },
     "execution_count": 15,
     "metadata": {},
     "output_type": "execute_result"
    }
   ],
   "source": [
    "# To filter-out some NACEBEL codes\n",
    "df = pd.read_csv('scraped_html_file.csv')\n",
    "df['NACEBEL_Initials'] = df.apply(lambda z: str(z.NACEBEL)[0:2], axis=1)\n",
    "df.NACEBEL_Initials.value_counts()"
   ]
  },
  {
   "cell_type": "code",
   "execution_count": null,
   "metadata": {},
   "outputs": [],
   "source": [
    "#Train model with NACEBEL <46> and get coefficients\n",
    "df = df[df.NACEBEL_Initials == '46']\n",
    "df = df[['Ondernemingsnummer', 'Clean_Text', 'thema_Bouw']]\n",
    "df = df.rename(columns={'Ondernemingsnummer': 'key', 'Clean_Text': 'text', 'thema_Bouw': 'label'})"
   ]
  },
  {
   "cell_type": "code",
   "execution_count": 22,
   "metadata": {},
   "outputs": [
    {
     "data": {
      "text/plain": [
       "0    233\n",
       "1     50\n",
       "Name: label, dtype: int64"
      ]
     },
     "execution_count": 22,
     "metadata": {},
     "output_type": "execute_result"
    }
   ],
   "source": [
    "df.label.value_counts()"
   ]
  },
  {
   "cell_type": "code",
   "execution_count": 24,
   "metadata": {},
   "outputs": [
    {
     "name": "stdout",
     "output_type": "stream",
     "text": [
      "Training Accuracy:   0.8131313131313131\n",
      "Test Accuracy:       0.8470588235294118\n",
      "Classification Report of the Test Set: \n",
      " \n",
      "              precision    recall  f1-score   support\n",
      "\n",
      "           0       0.85      1.00      0.92        72\n",
      "           1       0.00      0.00      0.00        13\n",
      "\n",
      "    accuracy                           0.85        85\n",
      "   macro avg       0.42      0.50      0.46        85\n",
      "weighted avg       0.72      0.85      0.78        85\n",
      "\n"
     ]
    },
    {
     "name": "stderr",
     "output_type": "stream",
     "text": [
      "c:\\users\\nusret\\appdata\\local\\programs\\python\\python38-32\\lib\\site-packages\\sklearn\\metrics\\_classification.py:1221: UndefinedMetricWarning: Precision and F-score are ill-defined and being set to 0.0 in labels with no predicted samples. Use `zero_division` parameter to control this behavior.\n",
      "  _warn_prf(average, modifier, msg_start, len(result))\n"
     ]
    },
    {
     "data": {
      "image/png": "[encoded data removed]",
      "text/plain": [
       "<Figure size 1296x432 with 2 Axes>"
      ]
     },
     "metadata": {
      "needs_background": "light"
     },
     "output_type": "display_data"
    },
    {
     "data": {
      "text/html": [
       "<div>\n",
       "<style scoped>\n",
       "    .dataframe tbody tr th:only-of-type {\n",
       "        vertical-align: middle;\n",
       "    }\n",
       "\n",
       "    .dataframe tbody tr th {\n",
       "        vertical-align: top;\n",
       "    }\n",
       "\n",
       "    .dataframe thead th {\n",
       "        text-align: right;\n",
       "    }\n",
       "</style>\n",
       "<table border=\"1\" class=\"dataframe\">\n",
       "  <thead>\n",
       "    <tr style=\"text-align: right;\">\n",
       "      <th></th>\n",
       "      <th>Negative Words</th>\n",
       "      <th>Coefficient</th>\n",
       "      <th>Positive Words</th>\n",
       "      <th>Coefficient</th>\n",
       "    </tr>\n",
       "  </thead>\n",
       "  <tbody>\n",
       "    <tr>\n",
       "      <th>0</th>\n",
       "      <td>news</td>\n",
       "      <td>-0.260439</td>\n",
       "      <td>tegels</td>\n",
       "      <td>1.545190</td>\n",
       "    </tr>\n",
       "    <tr>\n",
       "      <th>1</th>\n",
       "      <td>aanbod</td>\n",
       "      <td>0.000000</td>\n",
       "      <td>downloads</td>\n",
       "      <td>1.507916</td>\n",
       "    </tr>\n",
       "    <tr>\n",
       "      <th>2</th>\n",
       "      <td>oplossing</td>\n",
       "      <td>0.000000</td>\n",
       "      <td>projects</td>\n",
       "      <td>0.797466</td>\n",
       "    </tr>\n",
       "    <tr>\n",
       "      <th>3</th>\n",
       "      <td>oplossingen</td>\n",
       "      <td>0.000000</td>\n",
       "      <td>aanbod</td>\n",
       "      <td>0.000000</td>\n",
       "    </tr>\n",
       "    <tr>\n",
       "      <th>4</th>\n",
       "      <td>parket</td>\n",
       "      <td>0.000000</td>\n",
       "      <td>production</td>\n",
       "      <td>0.000000</td>\n",
       "    </tr>\n",
       "    <tr>\n",
       "      <th>5</th>\n",
       "      <td>partner</td>\n",
       "      <td>0.000000</td>\n",
       "      <td>partner</td>\n",
       "      <td>0.000000</td>\n",
       "    </tr>\n",
       "    <tr>\n",
       "      <th>6</th>\n",
       "      <td>partners</td>\n",
       "      <td>0.000000</td>\n",
       "      <td>partners</td>\n",
       "      <td>0.000000</td>\n",
       "    </tr>\n",
       "    <tr>\n",
       "      <th>7</th>\n",
       "      <td>per</td>\n",
       "      <td>0.000000</td>\n",
       "      <td>per</td>\n",
       "      <td>0.000000</td>\n",
       "    </tr>\n",
       "    <tr>\n",
       "      <th>8</th>\n",
       "      <td>plaatsing</td>\n",
       "      <td>0.000000</td>\n",
       "      <td>plaatsing</td>\n",
       "      <td>0.000000</td>\n",
       "    </tr>\n",
       "    <tr>\n",
       "      <th>9</th>\n",
       "      <td>policy</td>\n",
       "      <td>0.000000</td>\n",
       "      <td>policy</td>\n",
       "      <td>0.000000</td>\n",
       "    </tr>\n",
       "    <tr>\n",
       "      <th>10</th>\n",
       "      <td>privacy</td>\n",
       "      <td>0.000000</td>\n",
       "      <td>privacy</td>\n",
       "      <td>0.000000</td>\n",
       "    </tr>\n",
       "    <tr>\n",
       "      <th>11</th>\n",
       "      <td>product</td>\n",
       "      <td>0.000000</td>\n",
       "      <td>product</td>\n",
       "      <td>0.000000</td>\n",
       "    </tr>\n",
       "    <tr>\n",
       "      <th>12</th>\n",
       "      <td>producten</td>\n",
       "      <td>0.000000</td>\n",
       "      <td>producten</td>\n",
       "      <td>0.000000</td>\n",
       "    </tr>\n",
       "    <tr>\n",
       "      <th>13</th>\n",
       "      <td>production</td>\n",
       "      <td>0.000000</td>\n",
       "      <td>professionele</td>\n",
       "      <td>0.000000</td>\n",
       "    </tr>\n",
       "    <tr>\n",
       "      <th>14</th>\n",
       "      <td>products</td>\n",
       "      <td>0.000000</td>\n",
       "      <td>products</td>\n",
       "      <td>0.000000</td>\n",
       "    </tr>\n",
       "  </tbody>\n",
       "</table>\n",
       "</div>"
      ],
      "text/plain": [
       "   Negative Words  Coefficient Positive Words  Coefficient\n",
       "0            news    -0.260439         tegels     1.545190\n",
       "1          aanbod     0.000000      downloads     1.507916\n",
       "2       oplossing     0.000000       projects     0.797466\n",
       "3     oplossingen     0.000000         aanbod     0.000000\n",
       "4          parket     0.000000     production     0.000000\n",
       "5         partner     0.000000        partner     0.000000\n",
       "6        partners     0.000000       partners     0.000000\n",
       "7             per     0.000000            per     0.000000\n",
       "8       plaatsing     0.000000      plaatsing     0.000000\n",
       "9          policy     0.000000         policy     0.000000\n",
       "10        privacy     0.000000        privacy     0.000000\n",
       "11        product     0.000000        product     0.000000\n",
       "12      producten     0.000000      producten     0.000000\n",
       "13     production     0.000000  professionele     0.000000\n",
       "14       products     0.000000       products     0.000000"
      ]
     },
     "execution_count": 24,
     "metadata": {},
     "output_type": "execute_result"
    }
   ],
   "source": [
    "from sklearn.linear_model import LogisticRegression \n",
    "de_dataset = innovation_pipeline.train_doc_embeddings(dataset=df.reset_index(drop=True), size=50, iteration=5, window=10, min_count=3)\n",
    "Train_X, train_y, Test_X, test_y = innovation_pipeline.TFIDF_prebuild_sets_d2v(dataset=de_dataset, seed=22494, fraction=0.70, feature_count=200, oversample=True, \n",
    "                                                                                   size=150, label_oversample=1, embeddings = False, \n",
    "                                                                                   language = False, d2v = True, verbose = False)\n",
    "innovation_pipeline.train_model(LogisticRegression(penalty='l1', solver='saga', max_iter = 10000), Train_X=Train_X, train_y=train_y, Test_X=Test_X, test_y=test_y, \n",
    "                                    save_model = True, model_name='Thema_Bouw_46.pkl') \n",
    "innovation_pipeline.get_model_coefficients(saved_model = 'Thema_Bouw_46.pkl', Train_X = Train_X, size = 15)"
   ]
  }
 ],
 "metadata": {
  "kernelspec": {
   "display_name": "Python 3",
   "language": "python",
   "name": "python3"
  },
  "language_info": {
   "codemirror_mode": {
    "name": "ipython",
    "version": 3
   },
   "file_extension": ".py",
   "mimetype": "text/x-python",
   "name": "python",
   "nbconvert_exporter": "python",
   "pygments_lexer": "ipython3",
   "version": "3.8.2"
  }
 },
 "nbformat": 4,
 "nbformat_minor": 4
}
